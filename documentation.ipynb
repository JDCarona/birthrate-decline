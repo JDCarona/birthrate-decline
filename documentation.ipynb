{
 "cells": [
  {
   "attachments": {},
   "cell_type": "markdown",
   "metadata": {},
   "source": [
    "# Project Report: Falling Behind: A Global Look at Declining Birth Rates and its Consequences\n",
    "\n",
    "Jonathan Carona\n",
    "\n",
    "Course: Data Visualization\n"
   ]
  }
 ],
 "metadata": {
  "language_info": {
   "name": "python"
  },
  "orig_nbformat": 4
 },
 "nbformat": 4,
 "nbformat_minor": 2
}
