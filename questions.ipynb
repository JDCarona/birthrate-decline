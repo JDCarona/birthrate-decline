{
 "cells": [
  {
   "cell_type": "code",
   "execution_count": 1,
   "metadata": {},
   "outputs": [],
   "source": [
    "import pandas as pd\n",
    "import numpy as np\n",
    "import matplotlib.pyplot as plt\n",
    "import plotly.graph_objects as go\n",
    "import plotly.express as px\n"
   ]
  },
  {
   "cell_type": "code",
   "execution_count": 37,
   "metadata": {},
   "outputs": [
    {
     "data": {
      "application/vnd.plotly.v1+json": {
       "config": {
        "plotlyServerURL": "https://plot.ly"
       },
       "data": [
        {
         "alignmentgroup": "True",
         "hovertemplate": "hasChild=Women without children<br>0=%{x}<br>text=%{y}<extra></extra>",
         "legendgroup": "Women without children",
         "marker": {
          "color": "#636efa",
          "pattern": {
           "shape": ""
          }
         },
         "name": "Women without children",
         "offsetgroup": "Women without children",
         "orientation": "h",
         "showlegend": true,
         "textposition": "auto",
         "type": "bar",
         "x": [
          3.5675675675675675,
          3.310810810810811
         ],
         "xaxis": "x",
         "y": [
          "Women choose not to have a child because it is expensive to raise children.",
          "Women in high income jobs choose not to have a child because they face a high <br>opportunity cost in losing potential earnings."
         ],
         "yaxis": "y"
        },
        {
         "alignmentgroup": "True",
         "hovertemplate": "hasChild=Women with children<br>0=%{x}<br>text=%{y}<extra></extra>",
         "legendgroup": "Women with children",
         "marker": {
          "color": "#EF553B",
          "pattern": {
           "shape": ""
          }
         },
         "name": "Women with children",
         "offsetgroup": "Women with children",
         "orientation": "h",
         "showlegend": true,
         "textposition": "auto",
         "type": "bar",
         "x": [
          2.7450980392156863,
          3.2745098039215685
         ],
         "xaxis": "x",
         "y": [
          "Women choose not to have a child because it is expensive to raise children.",
          "Women in high income jobs choose not to have a child because they face a high <br>opportunity cost in losing potential earnings."
         ],
         "yaxis": "y"
        }
       ],
       "layout": {
        "annotations": [
         {
          "align": "left",
          "font": {
           "color": "#FAFAFA",
           "family": "Arial",
           "size": 14
          },
          "showarrow": false,
          "text": "Women choose not to have a child because it is expensive to raise children.",
          "x": 1,
          "xanchor": "left",
          "y": 0.4
         },
         {
          "align": "left",
          "font": {
           "color": "#FAFAFA",
           "family": "Arial",
           "size": 14
          },
          "showarrow": false,
          "text": "Women in high income jobs choose not to have a child because they face a high <br>opportunity cost in losing potential earnings.",
          "x": 1,
          "xanchor": "left",
          "y": 1.4
         }
        ],
        "bargap": 0.6,
        "barmode": "group",
        "height": 400,
        "legend": {
         "title": {
          "text": ""
         },
         "tracegroupgap": 0,
         "x": 0.95,
         "xanchor": "left",
         "y": 0.05,
         "yanchor": "bottom"
        },
        "margin": {
         "t": 60
        },
        "paper_bgcolor": "rgba(0,0,0,0)",
        "plot_bgcolor": "rgba(0,0,0,0)",
        "template": {
         "data": {
          "bar": [
           {
            "error_x": {
             "color": "#2a3f5f"
            },
            "error_y": {
             "color": "#2a3f5f"
            },
            "marker": {
             "line": {
              "color": "#E5ECF6",
              "width": 0.5
             },
             "pattern": {
              "fillmode": "overlay",
              "size": 10,
              "solidity": 0.2
             }
            },
            "type": "bar"
           }
          ],
          "barpolar": [
           {
            "marker": {
             "line": {
              "color": "#E5ECF6",
              "width": 0.5
             },
             "pattern": {
              "fillmode": "overlay",
              "size": 10,
              "solidity": 0.2
             }
            },
            "type": "barpolar"
           }
          ],
          "carpet": [
           {
            "aaxis": {
             "endlinecolor": "#2a3f5f",
             "gridcolor": "white",
             "linecolor": "white",
             "minorgridcolor": "white",
             "startlinecolor": "#2a3f5f"
            },
            "baxis": {
             "endlinecolor": "#2a3f5f",
             "gridcolor": "white",
             "linecolor": "white",
             "minorgridcolor": "white",
             "startlinecolor": "#2a3f5f"
            },
            "type": "carpet"
           }
          ],
          "choropleth": [
           {
            "colorbar": {
             "outlinewidth": 0,
             "ticks": ""
            },
            "type": "choropleth"
           }
          ],
          "contour": [
           {
            "colorbar": {
             "outlinewidth": 0,
             "ticks": ""
            },
            "colorscale": [
             [
              0,
              "#0d0887"
             ],
             [
              0.1111111111111111,
              "#46039f"
             ],
             [
              0.2222222222222222,
              "#7201a8"
             ],
             [
              0.3333333333333333,
              "#9c179e"
             ],
             [
              0.4444444444444444,
              "#bd3786"
             ],
             [
              0.5555555555555556,
              "#d8576b"
             ],
             [
              0.6666666666666666,
              "#ed7953"
             ],
             [
              0.7777777777777778,
              "#fb9f3a"
             ],
             [
              0.8888888888888888,
              "#fdca26"
             ],
             [
              1,
              "#f0f921"
             ]
            ],
            "type": "contour"
           }
          ],
          "contourcarpet": [
           {
            "colorbar": {
             "outlinewidth": 0,
             "ticks": ""
            },
            "type": "contourcarpet"
           }
          ],
          "heatmap": [
           {
            "colorbar": {
             "outlinewidth": 0,
             "ticks": ""
            },
            "colorscale": [
             [
              0,
              "#0d0887"
             ],
             [
              0.1111111111111111,
              "#46039f"
             ],
             [
              0.2222222222222222,
              "#7201a8"
             ],
             [
              0.3333333333333333,
              "#9c179e"
             ],
             [
              0.4444444444444444,
              "#bd3786"
             ],
             [
              0.5555555555555556,
              "#d8576b"
             ],
             [
              0.6666666666666666,
              "#ed7953"
             ],
             [
              0.7777777777777778,
              "#fb9f3a"
             ],
             [
              0.8888888888888888,
              "#fdca26"
             ],
             [
              1,
              "#f0f921"
             ]
            ],
            "type": "heatmap"
           }
          ],
          "heatmapgl": [
           {
            "colorbar": {
             "outlinewidth": 0,
             "ticks": ""
            },
            "colorscale": [
             [
              0,
              "#0d0887"
             ],
             [
              0.1111111111111111,
              "#46039f"
             ],
             [
              0.2222222222222222,
              "#7201a8"
             ],
             [
              0.3333333333333333,
              "#9c179e"
             ],
             [
              0.4444444444444444,
              "#bd3786"
             ],
             [
              0.5555555555555556,
              "#d8576b"
             ],
             [
              0.6666666666666666,
              "#ed7953"
             ],
             [
              0.7777777777777778,
              "#fb9f3a"
             ],
             [
              0.8888888888888888,
              "#fdca26"
             ],
             [
              1,
              "#f0f921"
             ]
            ],
            "type": "heatmapgl"
           }
          ],
          "histogram": [
           {
            "marker": {
             "pattern": {
              "fillmode": "overlay",
              "size": 10,
              "solidity": 0.2
             }
            },
            "type": "histogram"
           }
          ],
          "histogram2d": [
           {
            "colorbar": {
             "outlinewidth": 0,
             "ticks": ""
            },
            "colorscale": [
             [
              0,
              "#0d0887"
             ],
             [
              0.1111111111111111,
              "#46039f"
             ],
             [
              0.2222222222222222,
              "#7201a8"
             ],
             [
              0.3333333333333333,
              "#9c179e"
             ],
             [
              0.4444444444444444,
              "#bd3786"
             ],
             [
              0.5555555555555556,
              "#d8576b"
             ],
             [
              0.6666666666666666,
              "#ed7953"
             ],
             [
              0.7777777777777778,
              "#fb9f3a"
             ],
             [
              0.8888888888888888,
              "#fdca26"
             ],
             [
              1,
              "#f0f921"
             ]
            ],
            "type": "histogram2d"
           }
          ],
          "histogram2dcontour": [
           {
            "colorbar": {
             "outlinewidth": 0,
             "ticks": ""
            },
            "colorscale": [
             [
              0,
              "#0d0887"
             ],
             [
              0.1111111111111111,
              "#46039f"
             ],
             [
              0.2222222222222222,
              "#7201a8"
             ],
             [
              0.3333333333333333,
              "#9c179e"
             ],
             [
              0.4444444444444444,
              "#bd3786"
             ],
             [
              0.5555555555555556,
              "#d8576b"
             ],
             [
              0.6666666666666666,
              "#ed7953"
             ],
             [
              0.7777777777777778,
              "#fb9f3a"
             ],
             [
              0.8888888888888888,
              "#fdca26"
             ],
             [
              1,
              "#f0f921"
             ]
            ],
            "type": "histogram2dcontour"
           }
          ],
          "mesh3d": [
           {
            "colorbar": {
             "outlinewidth": 0,
             "ticks": ""
            },
            "type": "mesh3d"
           }
          ],
          "parcoords": [
           {
            "line": {
             "colorbar": {
              "outlinewidth": 0,
              "ticks": ""
             }
            },
            "type": "parcoords"
           }
          ],
          "pie": [
           {
            "automargin": true,
            "type": "pie"
           }
          ],
          "scatter": [
           {
            "fillpattern": {
             "fillmode": "overlay",
             "size": 10,
             "solidity": 0.2
            },
            "type": "scatter"
           }
          ],
          "scatter3d": [
           {
            "line": {
             "colorbar": {
              "outlinewidth": 0,
              "ticks": ""
             }
            },
            "marker": {
             "colorbar": {
              "outlinewidth": 0,
              "ticks": ""
             }
            },
            "type": "scatter3d"
           }
          ],
          "scattercarpet": [
           {
            "marker": {
             "colorbar": {
              "outlinewidth": 0,
              "ticks": ""
             }
            },
            "type": "scattercarpet"
           }
          ],
          "scattergeo": [
           {
            "marker": {
             "colorbar": {
              "outlinewidth": 0,
              "ticks": ""
             }
            },
            "type": "scattergeo"
           }
          ],
          "scattergl": [
           {
            "marker": {
             "colorbar": {
              "outlinewidth": 0,
              "ticks": ""
             }
            },
            "type": "scattergl"
           }
          ],
          "scattermapbox": [
           {
            "marker": {
             "colorbar": {
              "outlinewidth": 0,
              "ticks": ""
             }
            },
            "type": "scattermapbox"
           }
          ],
          "scatterpolar": [
           {
            "marker": {
             "colorbar": {
              "outlinewidth": 0,
              "ticks": ""
             }
            },
            "type": "scatterpolar"
           }
          ],
          "scatterpolargl": [
           {
            "marker": {
             "colorbar": {
              "outlinewidth": 0,
              "ticks": ""
             }
            },
            "type": "scatterpolargl"
           }
          ],
          "scatterternary": [
           {
            "marker": {
             "colorbar": {
              "outlinewidth": 0,
              "ticks": ""
             }
            },
            "type": "scatterternary"
           }
          ],
          "surface": [
           {
            "colorbar": {
             "outlinewidth": 0,
             "ticks": ""
            },
            "colorscale": [
             [
              0,
              "#0d0887"
             ],
             [
              0.1111111111111111,
              "#46039f"
             ],
             [
              0.2222222222222222,
              "#7201a8"
             ],
             [
              0.3333333333333333,
              "#9c179e"
             ],
             [
              0.4444444444444444,
              "#bd3786"
             ],
             [
              0.5555555555555556,
              "#d8576b"
             ],
             [
              0.6666666666666666,
              "#ed7953"
             ],
             [
              0.7777777777777778,
              "#fb9f3a"
             ],
             [
              0.8888888888888888,
              "#fdca26"
             ],
             [
              1,
              "#f0f921"
             ]
            ],
            "type": "surface"
           }
          ],
          "table": [
           {
            "cells": {
             "fill": {
              "color": "#EBF0F8"
             },
             "line": {
              "color": "white"
             }
            },
            "header": {
             "fill": {
              "color": "#C8D4E3"
             },
             "line": {
              "color": "white"
             }
            },
            "type": "table"
           }
          ]
         },
         "layout": {
          "annotationdefaults": {
           "arrowcolor": "#2a3f5f",
           "arrowhead": 0,
           "arrowwidth": 1
          },
          "autotypenumbers": "strict",
          "coloraxis": {
           "colorbar": {
            "outlinewidth": 0,
            "ticks": ""
           }
          },
          "colorscale": {
           "diverging": [
            [
             0,
             "#8e0152"
            ],
            [
             0.1,
             "#c51b7d"
            ],
            [
             0.2,
             "#de77ae"
            ],
            [
             0.3,
             "#f1b6da"
            ],
            [
             0.4,
             "#fde0ef"
            ],
            [
             0.5,
             "#f7f7f7"
            ],
            [
             0.6,
             "#e6f5d0"
            ],
            [
             0.7,
             "#b8e186"
            ],
            [
             0.8,
             "#7fbc41"
            ],
            [
             0.9,
             "#4d9221"
            ],
            [
             1,
             "#276419"
            ]
           ],
           "sequential": [
            [
             0,
             "#0d0887"
            ],
            [
             0.1111111111111111,
             "#46039f"
            ],
            [
             0.2222222222222222,
             "#7201a8"
            ],
            [
             0.3333333333333333,
             "#9c179e"
            ],
            [
             0.4444444444444444,
             "#bd3786"
            ],
            [
             0.5555555555555556,
             "#d8576b"
            ],
            [
             0.6666666666666666,
             "#ed7953"
            ],
            [
             0.7777777777777778,
             "#fb9f3a"
            ],
            [
             0.8888888888888888,
             "#fdca26"
            ],
            [
             1,
             "#f0f921"
            ]
           ],
           "sequentialminus": [
            [
             0,
             "#0d0887"
            ],
            [
             0.1111111111111111,
             "#46039f"
            ],
            [
             0.2222222222222222,
             "#7201a8"
            ],
            [
             0.3333333333333333,
             "#9c179e"
            ],
            [
             0.4444444444444444,
             "#bd3786"
            ],
            [
             0.5555555555555556,
             "#d8576b"
            ],
            [
             0.6666666666666666,
             "#ed7953"
            ],
            [
             0.7777777777777778,
             "#fb9f3a"
            ],
            [
             0.8888888888888888,
             "#fdca26"
            ],
            [
             1,
             "#f0f921"
            ]
           ]
          },
          "colorway": [
           "#636efa",
           "#EF553B",
           "#00cc96",
           "#ab63fa",
           "#FFA15A",
           "#19d3f3",
           "#FF6692",
           "#B6E880",
           "#FF97FF",
           "#FECB52"
          ],
          "font": {
           "color": "#2a3f5f"
          },
          "geo": {
           "bgcolor": "white",
           "lakecolor": "white",
           "landcolor": "#E5ECF6",
           "showlakes": true,
           "showland": true,
           "subunitcolor": "white"
          },
          "hoverlabel": {
           "align": "left"
          },
          "hovermode": "closest",
          "mapbox": {
           "style": "light"
          },
          "paper_bgcolor": "white",
          "plot_bgcolor": "#E5ECF6",
          "polar": {
           "angularaxis": {
            "gridcolor": "white",
            "linecolor": "white",
            "ticks": ""
           },
           "bgcolor": "#E5ECF6",
           "radialaxis": {
            "gridcolor": "white",
            "linecolor": "white",
            "ticks": ""
           }
          },
          "scene": {
           "xaxis": {
            "backgroundcolor": "#E5ECF6",
            "gridcolor": "white",
            "gridwidth": 2,
            "linecolor": "white",
            "showbackground": true,
            "ticks": "",
            "zerolinecolor": "white"
           },
           "yaxis": {
            "backgroundcolor": "#E5ECF6",
            "gridcolor": "white",
            "gridwidth": 2,
            "linecolor": "white",
            "showbackground": true,
            "ticks": "",
            "zerolinecolor": "white"
           },
           "zaxis": {
            "backgroundcolor": "#E5ECF6",
            "gridcolor": "white",
            "gridwidth": 2,
            "linecolor": "white",
            "showbackground": true,
            "ticks": "",
            "zerolinecolor": "white"
           }
          },
          "shapedefaults": {
           "line": {
            "color": "#2a3f5f"
           }
          },
          "ternary": {
           "aaxis": {
            "gridcolor": "white",
            "linecolor": "white",
            "ticks": ""
           },
           "baxis": {
            "gridcolor": "white",
            "linecolor": "white",
            "ticks": ""
           },
           "bgcolor": "#E5ECF6",
           "caxis": {
            "gridcolor": "white",
            "linecolor": "white",
            "ticks": ""
           }
          },
          "title": {
           "x": 0.05
          },
          "xaxis": {
           "automargin": true,
           "gridcolor": "white",
           "linecolor": "white",
           "ticks": "",
           "title": {
            "standoff": 15
           },
           "zerolinecolor": "white",
           "zerolinewidth": 2
          },
          "yaxis": {
           "automargin": true,
           "gridcolor": "white",
           "linecolor": "white",
           "ticks": "",
           "title": {
            "standoff": 15
           },
           "zerolinecolor": "white",
           "zerolinewidth": 2
          }
         }
        },
        "width": 800,
        "xaxis": {
         "anchor": "y",
         "domain": [
          0,
          1
         ],
         "range": [
          1,
          5
         ],
         "title": {
          "text": "Rating"
         }
        },
        "yaxis": {
         "anchor": "x",
         "domain": [
          0,
          1
         ],
         "title": {
          "text": "Statements"
         },
         "visible": false
        }
       }
      }
     },
     "metadata": {},
     "output_type": "display_data"
    }
   ],
   "source": [
    "colorscale = ['#00FFFF', '#9370DB', '#BA55D3', '#483D8B', '#00008B'] \n",
    "\n",
    "stacked_df = pd.read_csv(\"./data_clean/stacked_df_v2.csv\")\n",
    "fig = px.bar(stacked_df[stacked_df['text'].isin(stacked_df['text'][:2])], x=\"0\", y=\"text\", color='hasChild', orientation='h', barmode='group')\n",
    "fig.update_layout(width=800, height=400, xaxis=dict(range=[1, 5]), yaxis=dict(visible=False), bargap=0.6, xaxis_title=\"Rating\", yaxis_title=\"Statements\")\n",
    "\n",
    "annotations = []  # List to store annotations\n",
    "startplace = 0.4\n",
    "for i in stacked_df['text'][:2]:\n",
    "    annotation = dict(\n",
    "        x=1, y=startplace,\n",
    "        text=i,\n",
    "        font=dict(family=\"Arial\", size=14, color=\"#FAFAFA\"),\n",
    "        showarrow=False,\n",
    "        xanchor='left',\n",
    "        align='left'\n",
    "    )\n",
    "    startplace += 1\n",
    "    annotations.append(annotation)\n",
    "fig.update_layout(annotations=annotations, paper_bgcolor='rgba(0,0,0,0)', plot_bgcolor='rgba(0,0,0,0)')  # Add annotations to the figure\n",
    "fig.update_layout(legend=dict(\n",
    "    yanchor=\"bottom\",\n",
    "    y=0.05,\n",
    "    xanchor=\"left\",\n",
    "    x=0.95\n",
    "), legend_title_text='',\n",
    "\n",
    ")\n"
   ]
  },
  {
   "cell_type": "code",
   "execution_count": 53,
   "metadata": {},
   "outputs": [
    {
     "data": {
      "application/vnd.plotly.v1+json": {
       "config": {
        "plotlyServerURL": "https://plot.ly"
       },
       "data": [
        {
         "type": "scatter",
         "x": [
          0,
          0.5,
          1,
          2,
          2.2
         ],
         "y": [
          1.23,
          2.5,
          0.42,
          3,
          1
         ]
        }
       ],
       "layout": {
        "images": [
         {
          "layer": "below",
          "sizex": 2,
          "sizey": 2,
          "source": "data:image/png;base64,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",
          "x": 0,
          "xref": "x",
          "y": 3,
          "yref": "y"
         }
        ],
        "template": {
         "data": {
          "bar": [
           {
            "error_x": {
             "color": "#2a3f5f"
            },
            "error_y": {
             "color": "#2a3f5f"
            },
            "marker": {
             "line": {
              "color": "white",
              "width": 0.5
             },
             "pattern": {
              "fillmode": "overlay",
              "size": 10,
              "solidity": 0.2
             }
            },
            "type": "bar"
           }
          ],
          "barpolar": [
           {
            "marker": {
             "line": {
              "color": "white",
              "width": 0.5
             },
             "pattern": {
              "fillmode": "overlay",
              "size": 10,
              "solidity": 0.2
             }
            },
            "type": "barpolar"
           }
          ],
          "carpet": [
           {
            "aaxis": {
             "endlinecolor": "#2a3f5f",
             "gridcolor": "#C8D4E3",
             "linecolor": "#C8D4E3",
             "minorgridcolor": "#C8D4E3",
             "startlinecolor": "#2a3f5f"
            },
            "baxis": {
             "endlinecolor": "#2a3f5f",
             "gridcolor": "#C8D4E3",
             "linecolor": "#C8D4E3",
             "minorgridcolor": "#C8D4E3",
             "startlinecolor": "#2a3f5f"
            },
            "type": "carpet"
           }
          ],
          "choropleth": [
           {
            "colorbar": {
             "outlinewidth": 0,
             "ticks": ""
            },
            "type": "choropleth"
           }
          ],
          "contour": [
           {
            "colorbar": {
             "outlinewidth": 0,
             "ticks": ""
            },
            "colorscale": [
             [
              0,
              "#0d0887"
             ],
             [
              0.1111111111111111,
              "#46039f"
             ],
             [
              0.2222222222222222,
              "#7201a8"
             ],
             [
              0.3333333333333333,
              "#9c179e"
             ],
             [
              0.4444444444444444,
              "#bd3786"
             ],
             [
              0.5555555555555556,
              "#d8576b"
             ],
             [
              0.6666666666666666,
              "#ed7953"
             ],
             [
              0.7777777777777778,
              "#fb9f3a"
             ],
             [
              0.8888888888888888,
              "#fdca26"
             ],
             [
              1,
              "#f0f921"
             ]
            ],
            "type": "contour"
           }
          ],
          "contourcarpet": [
           {
            "colorbar": {
             "outlinewidth": 0,
             "ticks": ""
            },
            "type": "contourcarpet"
           }
          ],
          "heatmap": [
           {
            "colorbar": {
             "outlinewidth": 0,
             "ticks": ""
            },
            "colorscale": [
             [
              0,
              "#0d0887"
             ],
             [
              0.1111111111111111,
              "#46039f"
             ],
             [
              0.2222222222222222,
              "#7201a8"
             ],
             [
              0.3333333333333333,
              "#9c179e"
             ],
             [
              0.4444444444444444,
              "#bd3786"
             ],
             [
              0.5555555555555556,
              "#d8576b"
             ],
             [
              0.6666666666666666,
              "#ed7953"
             ],
             [
              0.7777777777777778,
              "#fb9f3a"
             ],
             [
              0.8888888888888888,
              "#fdca26"
             ],
             [
              1,
              "#f0f921"
             ]
            ],
            "type": "heatmap"
           }
          ],
          "heatmapgl": [
           {
            "colorbar": {
             "outlinewidth": 0,
             "ticks": ""
            },
            "colorscale": [
             [
              0,
              "#0d0887"
             ],
             [
              0.1111111111111111,
              "#46039f"
             ],
             [
              0.2222222222222222,
              "#7201a8"
             ],
             [
              0.3333333333333333,
              "#9c179e"
             ],
             [
              0.4444444444444444,
              "#bd3786"
             ],
             [
              0.5555555555555556,
              "#d8576b"
             ],
             [
              0.6666666666666666,
              "#ed7953"
             ],
             [
              0.7777777777777778,
              "#fb9f3a"
             ],
             [
              0.8888888888888888,
              "#fdca26"
             ],
             [
              1,
              "#f0f921"
             ]
            ],
            "type": "heatmapgl"
           }
          ],
          "histogram": [
           {
            "marker": {
             "pattern": {
              "fillmode": "overlay",
              "size": 10,
              "solidity": 0.2
             }
            },
            "type": "histogram"
           }
          ],
          "histogram2d": [
           {
            "colorbar": {
             "outlinewidth": 0,
             "ticks": ""
            },
            "colorscale": [
             [
              0,
              "#0d0887"
             ],
             [
              0.1111111111111111,
              "#46039f"
             ],
             [
              0.2222222222222222,
              "#7201a8"
             ],
             [
              0.3333333333333333,
              "#9c179e"
             ],
             [
              0.4444444444444444,
              "#bd3786"
             ],
             [
              0.5555555555555556,
              "#d8576b"
             ],
             [
              0.6666666666666666,
              "#ed7953"
             ],
             [
              0.7777777777777778,
              "#fb9f3a"
             ],
             [
              0.8888888888888888,
              "#fdca26"
             ],
             [
              1,
              "#f0f921"
             ]
            ],
            "type": "histogram2d"
           }
          ],
          "histogram2dcontour": [
           {
            "colorbar": {
             "outlinewidth": 0,
             "ticks": ""
            },
            "colorscale": [
             [
              0,
              "#0d0887"
             ],
             [
              0.1111111111111111,
              "#46039f"
             ],
             [
              0.2222222222222222,
              "#7201a8"
             ],
             [
              0.3333333333333333,
              "#9c179e"
             ],
             [
              0.4444444444444444,
              "#bd3786"
             ],
             [
              0.5555555555555556,
              "#d8576b"
             ],
             [
              0.6666666666666666,
              "#ed7953"
             ],
             [
              0.7777777777777778,
              "#fb9f3a"
             ],
             [
              0.8888888888888888,
              "#fdca26"
             ],
             [
              1,
              "#f0f921"
             ]
            ],
            "type": "histogram2dcontour"
           }
          ],
          "mesh3d": [
           {
            "colorbar": {
             "outlinewidth": 0,
             "ticks": ""
            },
            "type": "mesh3d"
           }
          ],
          "parcoords": [
           {
            "line": {
             "colorbar": {
              "outlinewidth": 0,
              "ticks": ""
             }
            },
            "type": "parcoords"
           }
          ],
          "pie": [
           {
            "automargin": true,
            "type": "pie"
           }
          ],
          "scatter": [
           {
            "fillpattern": {
             "fillmode": "overlay",
             "size": 10,
             "solidity": 0.2
            },
            "type": "scatter"
           }
          ],
          "scatter3d": [
           {
            "line": {
             "colorbar": {
              "outlinewidth": 0,
              "ticks": ""
             }
            },
            "marker": {
             "colorbar": {
              "outlinewidth": 0,
              "ticks": ""
             }
            },
            "type": "scatter3d"
           }
          ],
          "scattercarpet": [
           {
            "marker": {
             "colorbar": {
              "outlinewidth": 0,
              "ticks": ""
             }
            },
            "type": "scattercarpet"
           }
          ],
          "scattergeo": [
           {
            "marker": {
             "colorbar": {
              "outlinewidth": 0,
              "ticks": ""
             }
            },
            "type": "scattergeo"
           }
          ],
          "scattergl": [
           {
            "marker": {
             "colorbar": {
              "outlinewidth": 0,
              "ticks": ""
             }
            },
            "type": "scattergl"
           }
          ],
          "scattermapbox": [
           {
            "marker": {
             "colorbar": {
              "outlinewidth": 0,
              "ticks": ""
             }
            },
            "type": "scattermapbox"
           }
          ],
          "scatterpolar": [
           {
            "marker": {
             "colorbar": {
              "outlinewidth": 0,
              "ticks": ""
             }
            },
            "type": "scatterpolar"
           }
          ],
          "scatterpolargl": [
           {
            "marker": {
             "colorbar": {
              "outlinewidth": 0,
              "ticks": ""
             }
            },
            "type": "scatterpolargl"
           }
          ],
          "scatterternary": [
           {
            "marker": {
             "colorbar": {
              "outlinewidth": 0,
              "ticks": ""
             }
            },
            "type": "scatterternary"
           }
          ],
          "surface": [
           {
            "colorbar": {
             "outlinewidth": 0,
             "ticks": ""
            },
            "colorscale": [
             [
              0,
              "#0d0887"
             ],
             [
              0.1111111111111111,
              "#46039f"
             ],
             [
              0.2222222222222222,
              "#7201a8"
             ],
             [
              0.3333333333333333,
              "#9c179e"
             ],
             [
              0.4444444444444444,
              "#bd3786"
             ],
             [
              0.5555555555555556,
              "#d8576b"
             ],
             [
              0.6666666666666666,
              "#ed7953"
             ],
             [
              0.7777777777777778,
              "#fb9f3a"
             ],
             [
              0.8888888888888888,
              "#fdca26"
             ],
             [
              1,
              "#f0f921"
             ]
            ],
            "type": "surface"
           }
          ],
          "table": [
           {
            "cells": {
             "fill": {
              "color": "#EBF0F8"
             },
             "line": {
              "color": "white"
             }
            },
            "header": {
             "fill": {
              "color": "#C8D4E3"
             },
             "line": {
              "color": "white"
             }
            },
            "type": "table"
           }
          ]
         },
         "layout": {
          "annotationdefaults": {
           "arrowcolor": "#2a3f5f",
           "arrowhead": 0,
           "arrowwidth": 1
          },
          "autotypenumbers": "strict",
          "coloraxis": {
           "colorbar": {
            "outlinewidth": 0,
            "ticks": ""
           }
          },
          "colorscale": {
           "diverging": [
            [
             0,
             "#8e0152"
            ],
            [
             0.1,
             "#c51b7d"
            ],
            [
             0.2,
             "#de77ae"
            ],
            [
             0.3,
             "#f1b6da"
            ],
            [
             0.4,
             "#fde0ef"
            ],
            [
             0.5,
             "#f7f7f7"
            ],
            [
             0.6,
             "#e6f5d0"
            ],
            [
             0.7,
             "#b8e186"
            ],
            [
             0.8,
             "#7fbc41"
            ],
            [
             0.9,
             "#4d9221"
            ],
            [
             1,
             "#276419"
            ]
           ],
           "sequential": [
            [
             0,
             "#0d0887"
            ],
            [
             0.1111111111111111,
             "#46039f"
            ],
            [
             0.2222222222222222,
             "#7201a8"
            ],
            [
             0.3333333333333333,
             "#9c179e"
            ],
            [
             0.4444444444444444,
             "#bd3786"
            ],
            [
             0.5555555555555556,
             "#d8576b"
            ],
            [
             0.6666666666666666,
             "#ed7953"
            ],
            [
             0.7777777777777778,
             "#fb9f3a"
            ],
            [
             0.8888888888888888,
             "#fdca26"
            ],
            [
             1,
             "#f0f921"
            ]
           ],
           "sequentialminus": [
            [
             0,
             "#0d0887"
            ],
            [
             0.1111111111111111,
             "#46039f"
            ],
            [
             0.2222222222222222,
             "#7201a8"
            ],
            [
             0.3333333333333333,
             "#9c179e"
            ],
            [
             0.4444444444444444,
             "#bd3786"
            ],
            [
             0.5555555555555556,
             "#d8576b"
            ],
            [
             0.6666666666666666,
             "#ed7953"
            ],
            [
             0.7777777777777778,
             "#fb9f3a"
            ],
            [
             0.8888888888888888,
             "#fdca26"
            ],
            [
             1,
             "#f0f921"
            ]
           ]
          },
          "colorway": [
           "#636efa",
           "#EF553B",
           "#00cc96",
           "#ab63fa",
           "#FFA15A",
           "#19d3f3",
           "#FF6692",
           "#B6E880",
           "#FF97FF",
           "#FECB52"
          ],
          "font": {
           "color": "#2a3f5f"
          },
          "geo": {
           "bgcolor": "white",
           "lakecolor": "white",
           "landcolor": "white",
           "showlakes": true,
           "showland": true,
           "subunitcolor": "#C8D4E3"
          },
          "hoverlabel": {
           "align": "left"
          },
          "hovermode": "closest",
          "mapbox": {
           "style": "light"
          },
          "paper_bgcolor": "white",
          "plot_bgcolor": "white",
          "polar": {
           "angularaxis": {
            "gridcolor": "#EBF0F8",
            "linecolor": "#EBF0F8",
            "ticks": ""
           },
           "bgcolor": "white",
           "radialaxis": {
            "gridcolor": "#EBF0F8",
            "linecolor": "#EBF0F8",
            "ticks": ""
           }
          },
          "scene": {
           "xaxis": {
            "backgroundcolor": "white",
            "gridcolor": "#DFE8F3",
            "gridwidth": 2,
            "linecolor": "#EBF0F8",
            "showbackground": true,
            "ticks": "",
            "zerolinecolor": "#EBF0F8"
           },
           "yaxis": {
            "backgroundcolor": "white",
            "gridcolor": "#DFE8F3",
            "gridwidth": 2,
            "linecolor": "#EBF0F8",
            "showbackground": true,
            "ticks": "",
            "zerolinecolor": "#EBF0F8"
           },
           "zaxis": {
            "backgroundcolor": "white",
            "gridcolor": "#DFE8F3",
            "gridwidth": 2,
            "linecolor": "#EBF0F8",
            "showbackground": true,
            "ticks": "",
            "zerolinecolor": "#EBF0F8"
           }
          },
          "shapedefaults": {
           "line": {
            "color": "#2a3f5f"
           }
          },
          "ternary": {
           "aaxis": {
            "gridcolor": "#DFE8F3",
            "linecolor": "#A2B1C6",
            "ticks": ""
           },
           "baxis": {
            "gridcolor": "#DFE8F3",
            "linecolor": "#A2B1C6",
            "ticks": ""
           },
           "bgcolor": "white",
           "caxis": {
            "gridcolor": "#DFE8F3",
            "linecolor": "#A2B1C6",
            "ticks": ""
           }
          },
          "title": {
           "x": 0.05
          },
          "xaxis": {
           "automargin": true,
           "gridcolor": "#EBF0F8",
           "linecolor": "#EBF0F8",
           "ticks": "",
           "title": {
            "standoff": 15
           },
           "zerolinecolor": "#EBF0F8",
           "zerolinewidth": 2
          },
          "yaxis": {
           "automargin": true,
           "gridcolor": "#EBF0F8",
           "linecolor": "#EBF0F8",
           "ticks": "",
           "title": {
            "standoff": 15
           },
           "zerolinecolor": "#EBF0F8",
           "zerolinewidth": 2
          }
         }
        }
       }
      }
     },
     "metadata": {},
     "output_type": "display_data"
    }
   ],
   "source": [
    "import plotly.graph_objects as go\n",
    "from PIL import Image\n",
    "\n",
    "# Create figure\n",
    "fig = go.Figure()\n",
    "womanIcon = Image.open(\"woman.png\")\n",
    "\n",
    "\n",
    "# Add trace\n",
    "fig.add_trace(\n",
    "    go.Scatter(x=[0, 0.5, 1, 2, 2.2], y=[1.23, 2.5, 0.42, 3, 1])\n",
    ")\n",
    "\n",
    "# Add images\n",
    "fig.add_layout_image(\n",
    "        dict(\n",
    "            source=womanIcon,\n",
    "            xref=\"x\",\n",
    "            yref=\"y\",\n",
    "            x=0,\n",
    "            y=3,\n",
    "            sizex=2,\n",
    "            sizey=2,\n",
    "            layer=\"below\")\n",
    ")\n",
    "\n",
    "# Set templates\n",
    "fig.update_layout(template=\"plotly_white\")\n",
    "\n",
    "fig.show()"
   ]
  },
  {
   "cell_type": "code",
   "execution_count": 76,
   "metadata": {},
   "outputs": [
    {
     "data": {
      "application/vnd.plotly.v1+json": {
       "config": {
        "plotlyServerURL": "https://plot.ly"
       },
       "data": [
        {
         "alignmentgroup": "True",
         "hovertemplate": "x=%{x}<br>y=%{y}<extra></extra>",
         "legendgroup": "",
         "marker": {
          "color": [
           "#483D8B",
           "#483D8B",
           "#00FFFF",
           "#00FFFF",
           "#483D8B",
           "#483D8B",
           "#483D8B",
           "#483D8B",
           "#483D8B",
           "#483D8B",
           "#9370db",
           "#9370db",
           "#483D8B",
           "#483D8B",
           "#483D8B",
           "#483D8B",
           "#483D8B",
           "#483D8B",
           "#483D8B",
           "#483D8B",
           "#483D8B"
          ],
          "pattern": {
           "shape": ""
          }
         },
         "name": "",
         "offsetgroup": "",
         "orientation": "h",
         "showlegend": false,
         "textposition": "auto",
         "type": "bar",
         "x": [
          -223985,
          -227226,
          -221517,
          -216231,
          -244226,
          -281380,
          -313662,
          -315050,
          -304148,
          -300487,
          -326323,
          -328680,
          -270449,
          -214094,
          -189890,
          -156592,
          -98340,
          -56439,
          -20814,
          -4106,
          -345
         ],
         "xaxis": "x",
         "y": [
          "0-4",
          "5-9",
          "10-14",
          "15-19",
          "20-24",
          "25-29",
          "30-34",
          "35-39",
          "40-44",
          "45-49",
          "50-54",
          "55-59",
          "60-64",
          "65-69",
          "70-74",
          "75-79",
          "80-84",
          "85-89",
          "90-94",
          "95-99",
          "100+"
         ],
         "yaxis": "y"
        },
        {
         "marker": {
          "color": [
           "#BA55D3",
           "#BA55D3",
           "#00FFFF",
           "#00FFFF",
           "#BA55D3",
           "#BA55D3",
           "#BA55D3",
           "#BA55D3",
           "#BA55D3",
           "#BA55D3",
           "#9370db",
           "#9370db",
           "#BA55D3",
           "#BA55D3",
           "#BA55D3",
           "#BA55D3",
           "#BA55D3",
           "#BA55D3",
           "#BA55D3",
           "#BA55D3",
           "#BA55D3"
          ]
         },
         "orientation": "h",
         "showlegend": false,
         "type": "bar",
         "x": [
          212509,
          214300,
          209884,
          204080,
          228306,
          271295,
          306301,
          308817,
          299546,
          297500,
          323598,
          322230,
          271318,
          227503,
          211360,
          183508,
          132953,
          92280,
          46205,
          12472,
          1447
         ],
         "y": [
          "0-4",
          "5-9",
          "10-14",
          "15-19",
          "20-24",
          "25-29",
          "30-34",
          "35-39",
          "40-44",
          "45-49",
          "50-54",
          "55-59",
          "60-64",
          "65-69",
          "70-74",
          "75-79",
          "80-84",
          "85-89",
          "90-94",
          "95-99",
          "100+"
         ]
        }
       ],
       "layout": {
        "bargap": 0.1,
        "barmode": "overlay",
        "images": [
         {
          "layer": "above",
          "opacity": 1,
          "sizex": 50000,
          "sizey": 8,
          "source": "data:image/png;base64,iVBORw0KGgoAAAANSUhEUgAAAIAAAACACAYAAADDPmHLAAALEklEQVR4nO2da2wc1RmGn2/W6wsQmoS0QKCtBAkksZ1LSVQuTbkEX3Il4CxOQlWqVgJRqRISQiAoDa56AbVqpYofCKnlByqOvbgQwsVxAgYaCkhuIE6cBMKlCAhQEieUhMTe3fn6wzZNE9s7s97xObM7z7+s5nz7rufJOXM5c0YoIjoTPWf1k1khKsuAacA5IlKi6EeovA/aXhKTJ65qqXrHdNbxQkwHGA+2rNx9hluSuR3RW4GyLJsryGMucld9svLtcYhnlIIXYPOq7kUq0gpM9tm0T4Wf1rVW/yWIXLbgmA4QJB2J7h+pOO343/kAZaL8eVNi52/zncsmCrYHaG/YvjDmOFsUSsdaS4RbalqrH8xHLtsoSAG2rNx9hhtPvwmckZeCSkpjsqCupWp7XupZREEOAW48/XPytfMBhLhk9P681bOIgusBOte8OSWV7v+Q7Ef7/nFjF9e2zXot73UNUnA9QDrVv5wgdj4gTqYhiLomKTgBEJYEVVphaVC1TVF4AijTgyotME3Rgho2C04AFTk7sNpQ+sKat/J3cGkBBScAqoH+Jpf+WJD1x5vCE0DYF1htJfXSBVWfBVbfAIUnAPJecKX5V1OTuIHVN0DhCaD6bIDVnwmwthEKTgA3U/IkSDqI2uLyRBB1TVJwAtQ/PvNjVB/Oe2GVV69uq3ox73UNU3ACAEhJ/F7gcN7qKa6q3iaI5qumLRSkADXrZ+wDfihKfg7YRH5R11b9j7zUsoyCFACgNln9uCtyJzDG/7Xy8NXJyt/kJZSFFKwAAHXJqt+h2ijIlzk0V4WmmmTlTwqx6x+ioAUAqH1sdjKDzEGlFe+9wYsuzsV1yep7C3nnQwHOBxiN9oZdlY6TaRBYqsiFoF8DEORLVd4V0WddlycKdbyPOIGNy7pO2bBizwTTOSIiIiIiIgwQ6oPAZ27Ye3q871gDItPJ5yxgbxxQ3LfSpRV/W/LX6f8Z5+/OG6EVYFNi5+0Oeo+C0YM4gS8QflnTWv17kzlyJZQCdCR2/BG41XSO4xHkDzXJqttM5/BL6ATY1LDjUnF42XSOYVARvbSmdfarpoP4IXRXAsXhZtMZRkBU5RbTIfwSqh6g88b3ylNHDn+KcLrpLMMh8MWxo31nLX9qfi73HowQqh4gffTwClt3PoDChLLy0lA9PBIqAXBljekIWZEQZDyO0AwBnde8PjFVWvIJAT33ly8E+jM4Z9cnK3tNZ/FCaHqAVDy+Cst3Pgw8PSTirjSdwyuhEQDR0HStEoahapBQDAHt1+4+2ynJfAAaiseyRHEdyXxrUXLuR6azZCMUPYDEU6vDsvMBVHAylKwyncML4RAgRF3q/wjHkGX9EPB8487z067uJQRZT8KNXVDbNmuv6RijYX0PkHb1BsK48wFi6dWmI2TDegGARtMBckZlrekI2bBagC0Nu+YBs0znGAMzOhI9c02HGA2rBVAnE4oDqdFxrf4N1gqgqChcbzrHmFHWrFsX7LI1Y8HaYB3X71gIfNt0jjEjfPOSnd2XmY4xEtYKEM5z/+FxHMfa32KlAF03dcWBUFxJ84SSGPxN1mGlAAd6y+sQppjOkTeEKb2HympMxxgOKwUQwdouM2csHdKsu8K2cVnXKWUVZZ8Cp5nOkleUI1S4Z9Y+MueI6SjHY10PUFZevgIfOz9vy8DkgK/vFk7VY86yAOPkhHUCgHq/fKqkVMTY+v0Krwj0e91esG8YsEqAp9Z2T0Ko9dGkHdX9gQXKTi/Q4XVjQRe3J3pyeYFVYFglQDxFAj/z/hxpDi6NV9RzBoVSR/W6INP4xSoBHBXvt0+VI3GVjeThrWBjoFTLdQOK9wM7y+Y2WiPA5tV7pqrI9z03ENkwYdLRPkS+G2CsbFwyuSLVDzzptYEoVzyXeOOcADP5whoBNJ1a42fenyrNvQcrFoJODDDW6AinHzxQdpmfoUgFJy2ONTe5rBHAzxM1ohz8XKRDUOOPYamwdPLEY+3AAa9tbLrPYYUA7YmeaaAXed1eRVqvT1b2Y8NLnIRl8x+anxKkzUebBVsa37ggwFSesUIAwf2BvxbavOW67vMUvTCYRL6Y0Z7omYbr/WwAwHVjVswXtEIAB19H//tenlX1dzfmLA8wki8ccZdsrap6SZAPfTSzYhgwLsCmRPdFPv8nP9rUJK4N4/9XKEubmsRV1fU+Ws1ob9z+ncAyecS4AIK/yRJuzG3uTPScpuD9lDF4Lt+wYs8EN+b6GgacjPmJIkYFWLdOHfE37XtPfcucbSncGux6UrisvDy1qL5lzjZgl492a03PFzT65Zfu7rlc0XN9NGkGEBuO/k9AdCCTKK3eGzH1sl07FwYWygNm7VP1Ne3LcTLrFRVVFgeVKWeUJQPZYo/6bJcIKJEnjAqg6uPSL3Rd3TL3rU2N3fMQpgYWKleEqZsau+cNPgvY5b0Z3wswVVYMHwSqn1ujzQCOa9+kiiEclaGhyc8dQqO3h02fBXhaQEEUN0amZfCfgb0efswMCiCx+Hrvs4XE6CISZocA8fYmToWnFyXnfvTcmh1nirIg6Fy5IsqCjmu3f6Nm/Yx9Ck97bBTkm06zYlSA0pLSB0D+PfpWkibm3gWQSetiFeO91oio4Gg8thhARO/28AbTT1ycB8Yh2ogY/WNe2XzhfgddycDUquHoU9FEbcucnQCCWHf6dyJDp4M1ydk7VDQB9I2w6QHc2ErTy8lZMS18YBGo9B3AcoFzFT4U5QXV2H1DK2x03dQV7+0t22/zSqEDyOeTJx37+vyH5qcAOhp2TRcnc4cqVyCcy8Bxz0Y3XXJ//eMzPzab1RIBvLB5VfciFdliOocXVOSqutaqTtM5vGDteDoM1nf/QwwNA2EgNAIoTmj+qNh0pzILoRDg+cad5yNqxQwajwxMEgkBoRAgk8GayR9eccS194LVcYRCAA3R+P8VITkOsP4soDPRc1oKdz923f/PikD/l33xKdc8OeML01lGw/oeIK1aS8h2Pgw8BlZenlpkOkc2rBcgTEfUJxKG00HrBVCwcmkVj/h50tkI1gsg4V4p5FTTAbJhvQAqGFsAIg9Y/xJJ6wUQl3v8rMJhDUpKRH9lOkY2rBegpq26S3EWo7xjOotXBN4WpTYMr5G1/jrAEIpKZ2PPeSnXnXj85w5yp+a2qORriPx6oLjeDfheZ0DgMRe97/jP4o5z6MqWyncF0RwyjTslpgN4RRCl5eReoCOx47McyvXG+9P1V26YdwjgqbXdW8v65R0VJvkpovBZXXL2P3P4fmuwfggIBJVtQzsfYNmjsw+qyDaDiYxRnAIMd1CpI07dKmiKVYCIQSIBipxIgCInEqDIiQQociIBipxIgCInEqDIiQQociIBipxIgCInEqDIiQQociIBipxIgCInEqDIiQQociIBipxIgCInEqDIiQQociIBipxIgCInEqDIiQQociIBipzQCyCqx/w3IjVMId91RIepEzJCL4CK834OzT448QNR9V3HFV9vCrWS0AsgDh3+W+nzJ33kOJt8V3Eyz/n/brsIvQA1LVW78fp6lgH2HsI5afutMys3A90+6rw4+KLIUBN6AQA0xi0o+z1s2ic4Px589fz/0dQkLjg3ghzNVkSUgxn05pzCWkZBCFC3vvoDV2NXZFlH6AAqK2qSlVtH2qA2WfmG62bqUD4dpc77rmjN4uTsN3NPbA+hWSPIC68kXqk4rBNuVtHVQCWKi/CuwgbF+ZPX9/N0XvP6xFRZ7GeoXIsyE5FjwG5U26hwH6x9ZM6RYH/J+PFf7wU+XBB+NKIAAAAASUVORK5CYII=",
          "x": 400000,
          "xanchor": "right",
          "xref": "x",
          "y": "80-84",
          "yanchor": "middle",
          "yref": "y"
         },
         {
          "layer": "above",
          "opacity": 1,
          "sizex": 50000,
          "sizey": 8,
          "source": "data:image/png;base64,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",
          "x": -350000,
          "xanchor": "right",
          "xref": "x",
          "y": "80-84",
          "yanchor": "middle",
          "yref": "y"
         }
        ],
        "legend": {
         "tracegroupgap": 0
        },
        "template": {
         "data": {
          "bar": [
           {
            "error_x": {
             "color": "#2a3f5f"
            },
            "error_y": {
             "color": "#2a3f5f"
            },
            "marker": {
             "line": {
              "color": "#E5ECF6",
              "width": 0.5
             },
             "pattern": {
              "fillmode": "overlay",
              "size": 10,
              "solidity": 0.2
             }
            },
            "type": "bar"
           }
          ],
          "barpolar": [
           {
            "marker": {
             "line": {
              "color": "#E5ECF6",
              "width": 0.5
             },
             "pattern": {
              "fillmode": "overlay",
              "size": 10,
              "solidity": 0.2
             }
            },
            "type": "barpolar"
           }
          ],
          "carpet": [
           {
            "aaxis": {
             "endlinecolor": "#2a3f5f",
             "gridcolor": "white",
             "linecolor": "white",
             "minorgridcolor": "white",
             "startlinecolor": "#2a3f5f"
            },
            "baxis": {
             "endlinecolor": "#2a3f5f",
             "gridcolor": "white",
             "linecolor": "white",
             "minorgridcolor": "white",
             "startlinecolor": "#2a3f5f"
            },
            "type": "carpet"
           }
          ],
          "choropleth": [
           {
            "colorbar": {
             "outlinewidth": 0,
             "ticks": ""
            },
            "type": "choropleth"
           }
          ],
          "contour": [
           {
            "colorbar": {
             "outlinewidth": 0,
             "ticks": ""
            },
            "colorscale": [
             [
              0,
              "#0d0887"
             ],
             [
              0.1111111111111111,
              "#46039f"
             ],
             [
              0.2222222222222222,
              "#7201a8"
             ],
             [
              0.3333333333333333,
              "#9c179e"
             ],
             [
              0.4444444444444444,
              "#bd3786"
             ],
             [
              0.5555555555555556,
              "#d8576b"
             ],
             [
              0.6666666666666666,
              "#ed7953"
             ],
             [
              0.7777777777777778,
              "#fb9f3a"
             ],
             [
              0.8888888888888888,
              "#fdca26"
             ],
             [
              1,
              "#f0f921"
             ]
            ],
            "type": "contour"
           }
          ],
          "contourcarpet": [
           {
            "colorbar": {
             "outlinewidth": 0,
             "ticks": ""
            },
            "type": "contourcarpet"
           }
          ],
          "heatmap": [
           {
            "colorbar": {
             "outlinewidth": 0,
             "ticks": ""
            },
            "colorscale": [
             [
              0,
              "#0d0887"
             ],
             [
              0.1111111111111111,
              "#46039f"
             ],
             [
              0.2222222222222222,
              "#7201a8"
             ],
             [
              0.3333333333333333,
              "#9c179e"
             ],
             [
              0.4444444444444444,
              "#bd3786"
             ],
             [
              0.5555555555555556,
              "#d8576b"
             ],
             [
              0.6666666666666666,
              "#ed7953"
             ],
             [
              0.7777777777777778,
              "#fb9f3a"
             ],
             [
              0.8888888888888888,
              "#fdca26"
             ],
             [
              1,
              "#f0f921"
             ]
            ],
            "type": "heatmap"
           }
          ],
          "heatmapgl": [
           {
            "colorbar": {
             "outlinewidth": 0,
             "ticks": ""
            },
            "colorscale": [
             [
              0,
              "#0d0887"
             ],
             [
              0.1111111111111111,
              "#46039f"
             ],
             [
              0.2222222222222222,
              "#7201a8"
             ],
             [
              0.3333333333333333,
              "#9c179e"
             ],
             [
              0.4444444444444444,
              "#bd3786"
             ],
             [
              0.5555555555555556,
              "#d8576b"
             ],
             [
              0.6666666666666666,
              "#ed7953"
             ],
             [
              0.7777777777777778,
              "#fb9f3a"
             ],
             [
              0.8888888888888888,
              "#fdca26"
             ],
             [
              1,
              "#f0f921"
             ]
            ],
            "type": "heatmapgl"
           }
          ],
          "histogram": [
           {
            "marker": {
             "pattern": {
              "fillmode": "overlay",
              "size": 10,
              "solidity": 0.2
             }
            },
            "type": "histogram"
           }
          ],
          "histogram2d": [
           {
            "colorbar": {
             "outlinewidth": 0,
             "ticks": ""
            },
            "colorscale": [
             [
              0,
              "#0d0887"
             ],
             [
              0.1111111111111111,
              "#46039f"
             ],
             [
              0.2222222222222222,
              "#7201a8"
             ],
             [
              0.3333333333333333,
              "#9c179e"
             ],
             [
              0.4444444444444444,
              "#bd3786"
             ],
             [
              0.5555555555555556,
              "#d8576b"
             ],
             [
              0.6666666666666666,
              "#ed7953"
             ],
             [
              0.7777777777777778,
              "#fb9f3a"
             ],
             [
              0.8888888888888888,
              "#fdca26"
             ],
             [
              1,
              "#f0f921"
             ]
            ],
            "type": "histogram2d"
           }
          ],
          "histogram2dcontour": [
           {
            "colorbar": {
             "outlinewidth": 0,
             "ticks": ""
            },
            "colorscale": [
             [
              0,
              "#0d0887"
             ],
             [
              0.1111111111111111,
              "#46039f"
             ],
             [
              0.2222222222222222,
              "#7201a8"
             ],
             [
              0.3333333333333333,
              "#9c179e"
             ],
             [
              0.4444444444444444,
              "#bd3786"
             ],
             [
              0.5555555555555556,
              "#d8576b"
             ],
             [
              0.6666666666666666,
              "#ed7953"
             ],
             [
              0.7777777777777778,
              "#fb9f3a"
             ],
             [
              0.8888888888888888,
              "#fdca26"
             ],
             [
              1,
              "#f0f921"
             ]
            ],
            "type": "histogram2dcontour"
           }
          ],
          "mesh3d": [
           {
            "colorbar": {
             "outlinewidth": 0,
             "ticks": ""
            },
            "type": "mesh3d"
           }
          ],
          "parcoords": [
           {
            "line": {
             "colorbar": {
              "outlinewidth": 0,
              "ticks": ""
             }
            },
            "type": "parcoords"
           }
          ],
          "pie": [
           {
            "automargin": true,
            "type": "pie"
           }
          ],
          "scatter": [
           {
            "fillpattern": {
             "fillmode": "overlay",
             "size": 10,
             "solidity": 0.2
            },
            "type": "scatter"
           }
          ],
          "scatter3d": [
           {
            "line": {
             "colorbar": {
              "outlinewidth": 0,
              "ticks": ""
             }
            },
            "marker": {
             "colorbar": {
              "outlinewidth": 0,
              "ticks": ""
             }
            },
            "type": "scatter3d"
           }
          ],
          "scattercarpet": [
           {
            "marker": {
             "colorbar": {
              "outlinewidth": 0,
              "ticks": ""
             }
            },
            "type": "scattercarpet"
           }
          ],
          "scattergeo": [
           {
            "marker": {
             "colorbar": {
              "outlinewidth": 0,
              "ticks": ""
             }
            },
            "type": "scattergeo"
           }
          ],
          "scattergl": [
           {
            "marker": {
             "colorbar": {
              "outlinewidth": 0,
              "ticks": ""
             }
            },
            "type": "scattergl"
           }
          ],
          "scattermapbox": [
           {
            "marker": {
             "colorbar": {
              "outlinewidth": 0,
              "ticks": ""
             }
            },
            "type": "scattermapbox"
           }
          ],
          "scatterpolar": [
           {
            "marker": {
             "colorbar": {
              "outlinewidth": 0,
              "ticks": ""
             }
            },
            "type": "scatterpolar"
           }
          ],
          "scatterpolargl": [
           {
            "marker": {
             "colorbar": {
              "outlinewidth": 0,
              "ticks": ""
             }
            },
            "type": "scatterpolargl"
           }
          ],
          "scatterternary": [
           {
            "marker": {
             "colorbar": {
              "outlinewidth": 0,
              "ticks": ""
             }
            },
            "type": "scatterternary"
           }
          ],
          "surface": [
           {
            "colorbar": {
             "outlinewidth": 0,
             "ticks": ""
            },
            "colorscale": [
             [
              0,
              "#0d0887"
             ],
             [
              0.1111111111111111,
              "#46039f"
             ],
             [
              0.2222222222222222,
              "#7201a8"
             ],
             [
              0.3333333333333333,
              "#9c179e"
             ],
             [
              0.4444444444444444,
              "#bd3786"
             ],
             [
              0.5555555555555556,
              "#d8576b"
             ],
             [
              0.6666666666666666,
              "#ed7953"
             ],
             [
              0.7777777777777778,
              "#fb9f3a"
             ],
             [
              0.8888888888888888,
              "#fdca26"
             ],
             [
              1,
              "#f0f921"
             ]
            ],
            "type": "surface"
           }
          ],
          "table": [
           {
            "cells": {
             "fill": {
              "color": "#EBF0F8"
             },
             "line": {
              "color": "white"
             }
            },
            "header": {
             "fill": {
              "color": "#C8D4E3"
             },
             "line": {
              "color": "white"
             }
            },
            "type": "table"
           }
          ]
         },
         "layout": {
          "annotationdefaults": {
           "arrowcolor": "#2a3f5f",
           "arrowhead": 0,
           "arrowwidth": 1
          },
          "autotypenumbers": "strict",
          "coloraxis": {
           "colorbar": {
            "outlinewidth": 0,
            "ticks": ""
           }
          },
          "colorscale": {
           "diverging": [
            [
             0,
             "#8e0152"
            ],
            [
             0.1,
             "#c51b7d"
            ],
            [
             0.2,
             "#de77ae"
            ],
            [
             0.3,
             "#f1b6da"
            ],
            [
             0.4,
             "#fde0ef"
            ],
            [
             0.5,
             "#f7f7f7"
            ],
            [
             0.6,
             "#e6f5d0"
            ],
            [
             0.7,
             "#b8e186"
            ],
            [
             0.8,
             "#7fbc41"
            ],
            [
             0.9,
             "#4d9221"
            ],
            [
             1,
             "#276419"
            ]
           ],
           "sequential": [
            [
             0,
             "#0d0887"
            ],
            [
             0.1111111111111111,
             "#46039f"
            ],
            [
             0.2222222222222222,
             "#7201a8"
            ],
            [
             0.3333333333333333,
             "#9c179e"
            ],
            [
             0.4444444444444444,
             "#bd3786"
            ],
            [
             0.5555555555555556,
             "#d8576b"
            ],
            [
             0.6666666666666666,
             "#ed7953"
            ],
            [
             0.7777777777777778,
             "#fb9f3a"
            ],
            [
             0.8888888888888888,
             "#fdca26"
            ],
            [
             1,
             "#f0f921"
            ]
           ],
           "sequentialminus": [
            [
             0,
             "#0d0887"
            ],
            [
             0.1111111111111111,
             "#46039f"
            ],
            [
             0.2222222222222222,
             "#7201a8"
            ],
            [
             0.3333333333333333,
             "#9c179e"
            ],
            [
             0.4444444444444444,
             "#bd3786"
            ],
            [
             0.5555555555555556,
             "#d8576b"
            ],
            [
             0.6666666666666666,
             "#ed7953"
            ],
            [
             0.7777777777777778,
             "#fb9f3a"
            ],
            [
             0.8888888888888888,
             "#fdca26"
            ],
            [
             1,
             "#f0f921"
            ]
           ]
          },
          "colorway": [
           "#636efa",
           "#EF553B",
           "#00cc96",
           "#ab63fa",
           "#FFA15A",
           "#19d3f3",
           "#FF6692",
           "#B6E880",
           "#FF97FF",
           "#FECB52"
          ],
          "font": {
           "color": "#2a3f5f"
          },
          "geo": {
           "bgcolor": "white",
           "lakecolor": "white",
           "landcolor": "#E5ECF6",
           "showlakes": true,
           "showland": true,
           "subunitcolor": "white"
          },
          "hoverlabel": {
           "align": "left"
          },
          "hovermode": "closest",
          "mapbox": {
           "style": "light"
          },
          "paper_bgcolor": "white",
          "plot_bgcolor": "#E5ECF6",
          "polar": {
           "angularaxis": {
            "gridcolor": "white",
            "linecolor": "white",
            "ticks": ""
           },
           "bgcolor": "#E5ECF6",
           "radialaxis": {
            "gridcolor": "white",
            "linecolor": "white",
            "ticks": ""
           }
          },
          "scene": {
           "xaxis": {
            "backgroundcolor": "#E5ECF6",
            "gridcolor": "white",
            "gridwidth": 2,
            "linecolor": "white",
            "showbackground": true,
            "ticks": "",
            "zerolinecolor": "white"
           },
           "yaxis": {
            "backgroundcolor": "#E5ECF6",
            "gridcolor": "white",
            "gridwidth": 2,
            "linecolor": "white",
            "showbackground": true,
            "ticks": "",
            "zerolinecolor": "white"
           },
           "zaxis": {
            "backgroundcolor": "#E5ECF6",
            "gridcolor": "white",
            "gridwidth": 2,
            "linecolor": "white",
            "showbackground": true,
            "ticks": "",
            "zerolinecolor": "white"
           }
          },
          "shapedefaults": {
           "line": {
            "color": "#2a3f5f"
           }
          },
          "ternary": {
           "aaxis": {
            "gridcolor": "white",
            "linecolor": "white",
            "ticks": ""
           },
           "baxis": {
            "gridcolor": "white",
            "linecolor": "white",
            "ticks": ""
           },
           "bgcolor": "#E5ECF6",
           "caxis": {
            "gridcolor": "white",
            "linecolor": "white",
            "ticks": ""
           }
          },
          "title": {
           "x": 0.05
          },
          "xaxis": {
           "automargin": true,
           "gridcolor": "white",
           "linecolor": "white",
           "ticks": "",
           "title": {
            "standoff": 15
           },
           "zerolinecolor": "white",
           "zerolinewidth": 2
          },
          "yaxis": {
           "automargin": true,
           "gridcolor": "white",
           "linecolor": "white",
           "ticks": "",
           "title": {
            "standoff": 15
           },
           "zerolinecolor": "white",
           "zerolinewidth": 2
          }
         }
        },
        "title": {
         "text": "Age pyramid of men and women in Switzerland"
        },
        "xaxis": {
         "anchor": "y",
         "domain": [
          0,
          1
         ],
         "range": [
          -400000,
          400000
         ],
         "ticktext": [
          300000,
          200000,
          100000,
          0,
          100000,
          200000,
          300000
         ],
         "tickvals": [
          -300000,
          -200000,
          -100000,
          0,
          100000,
          200000,
          300000
         ],
         "title": {
          "text": "Population count"
         }
        },
        "yaxis": {
         "anchor": "x",
         "domain": [
          0,
          1
         ],
         "title": {
          "text": "Age group"
         }
        }
       }
      }
     },
     "metadata": {},
     "output_type": "display_data"
    }
   ],
   "source": [
    "swiss_pyramid = pd.read_csv(\"./Switzerland-2021.csv\")\n",
    "colorscale_two = [\n",
    "    '#00FFFF',  # light cyan\n",
    "    '#9370db',  # medium purple\n",
    "    '#BA55D3',  # dark blue\n",
    "    '#483D8B',  # medium orchid\n",
    "    '#00008B',  # dark blue\n",
    "]\n",
    "womanIcon = Image.open(\"woman.png\")\n",
    "manIcon = Image.open(\"man.png\")\n",
    "\n",
    "\n",
    "fig = px.bar(\n",
    "    orientation=\"h\",\n",
    "    y=swiss_pyramid[\"Age\"],\n",
    "    x=-swiss_pyramid[\"M\"],\n",
    "    title='Age pyramid of men and women in Switzerland'\n",
    "    \n",
    ")\n",
    "\n",
    "layout = go.Layout(\n",
    "    yaxis=go.layout.YAxis(title=\"Age group\"),\n",
    "    xaxis=go.layout.XAxis(\n",
    "        range=[-400_000, 400_000],\n",
    "        tickvals=[-300_000, -200_000, -100_000, 0, 100_000, 200_000, 300_000],\n",
    "        ticktext=[300_000, 200_000, 100_000, 0, 100_000, 200_000, 300_000],\n",
    "        title=\"Population count\",\n",
    "    ),\n",
    "    barmode=\"overlay\",\n",
    "    bargap=0.1,\n",
    ")\n",
    "fig.update_layout(layout)\n",
    "fig.update_traces(\n",
    "    selector=dict(type=\"bar\"),\n",
    "    marker=dict(color=[\n",
    "        colorscale_two[3], \n",
    "        colorscale_two[3], \n",
    "        colorscale_two[0], \n",
    "        colorscale_two[0], \n",
    "        colorscale_two[3], \n",
    "        colorscale_two[3], \n",
    "        colorscale_two[3], \n",
    "        colorscale_two[3], \n",
    "        colorscale_two[3], \n",
    "        colorscale_two[3],\n",
    "        colorscale_two[1],\n",
    "        colorscale_two[1],\n",
    "        colorscale_two[3],\n",
    "        colorscale_two[3],\n",
    "        colorscale_two[3],\n",
    "        colorscale_two[3],\n",
    "        colorscale_two[3],\n",
    "        colorscale_two[3],\n",
    "        colorscale_two[3],\n",
    "        colorscale_two[3],\n",
    "        colorscale_two[3],\n",
    "    ]),\n",
    ")\n",
    "\n",
    "fig.add_trace(\n",
    "    go.Bar(\n",
    "        orientation=\"h\", y=swiss_pyramid[\"Age\"], x=swiss_pyramid[\"F\"], showlegend=False,\n",
    "        marker=dict(color=[\n",
    "            colorscale_two[2], \n",
    "            colorscale_two[2], \n",
    "            colorscale_two[0], \n",
    "            colorscale_two[0], \n",
    "            colorscale_two[2], \n",
    "            colorscale_two[2], \n",
    "            colorscale_two[2], \n",
    "            colorscale_two[2], \n",
    "            colorscale_two[2], \n",
    "            colorscale_two[2],\n",
    "            colorscale_two[1],\n",
    "            colorscale_two[1],\n",
    "            colorscale_two[2],\n",
    "            colorscale_two[2],\n",
    "            colorscale_two[2],\n",
    "            colorscale_two[2],\n",
    "            colorscale_two[2],\n",
    "            colorscale_two[2],\n",
    "            colorscale_two[2],\n",
    "            colorscale_two[2],\n",
    "            colorscale_two[2],\n",
    "    ])\n",
    "    )\n",
    ")\n",
    "\n",
    "\n",
    "# Add annotation for woman icon\n",
    "fig.add_layout_image(\n",
    "    dict(\n",
    "        source=womanIcon,\n",
    "        xref=\"x\",\n",
    "        yref=\"y\",\n",
    "        x=400_000,  # x-coordinate of the woman icon\n",
    "        y='80-84',  # y-coordinate of the woman icon (using the first age value)\n",
    "        sizex=50_000,  # width of the woman icon\n",
    "        sizey=8,  # height of the woman icon\n",
    "        xanchor=\"right\",  # anchor point for the x-coordinate\n",
    "        yanchor=\"middle\",  # anchor point for the y-coordinate\n",
    "        opacity=1,\n",
    "        layer=\"above\"\n",
    "    )\n",
    ")\n",
    "# Add annotation for woman icon\n",
    "fig.add_layout_image(\n",
    "    dict(\n",
    "        source=manIcon,\n",
    "        xref=\"x\",\n",
    "        yref=\"y\",\n",
    "        x=-350_000,  # x-coordinate of the woman icon\n",
    "        y='80-84',  # y-coordinate of the woman icon (using the first age value)\n",
    "        sizex=50_000,  # width of the woman icon\n",
    "        sizey=8,  # height of the woman icon\n",
    "        xanchor=\"right\",  # anchor point for the x-coordinate\n",
    "        yanchor=\"middle\",  # anchor point for the y-coordinate\n",
    "        opacity=1,\n",
    "        layer=\"above\"\n",
    "    )\n",
    ")"
   ]
  },
  {
   "cell_type": "code",
   "execution_count": 61,
   "metadata": {},
   "outputs": [
    {
     "data": {
      "text/plain": [
       "'0-4'"
      ]
     },
     "execution_count": 61,
     "metadata": {},
     "output_type": "execute_result"
    }
   ],
   "source": [
    "swiss_pyramid[\"Age\"].iloc[0]"
   ]
  }
 ],
 "metadata": {
  "kernelspec": {
   "display_name": "Python 3",
   "language": "python",
   "name": "python3"
  },
  "language_info": {
   "codemirror_mode": {
    "name": "ipython",
    "version": 3
   },
   "file_extension": ".py",
   "mimetype": "text/x-python",
   "name": "python",
   "nbconvert_exporter": "python",
   "pygments_lexer": "ipython3",
   "version": "3.10.6"
  },
  "orig_nbformat": 4
 },
 "nbformat": 4,
 "nbformat_minor": 2
}
