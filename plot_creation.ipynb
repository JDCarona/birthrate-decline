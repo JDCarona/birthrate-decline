{
 "cells": [
  {
   "cell_type": "code",
   "execution_count": 2,
   "metadata": {},
   "outputs": [],
   "source": [
    "import plotly.express as px\n",
    "import pandas as pd\n",
    "import numpy as np\n",
    "import matplotlib.pyplot as plt\n",
    "import plotly.graph_objects as go"
   ]
  },
  {
   "cell_type": "code",
   "execution_count": 2,
   "metadata": {},
   "outputs": [
    {
     "data": {
      "text/html": [
       "<div>\n",
       "<style scoped>\n",
       "    .dataframe tbody tr th:only-of-type {\n",
       "        vertical-align: middle;\n",
       "    }\n",
       "\n",
       "    .dataframe tbody tr th {\n",
       "        vertical-align: top;\n",
       "    }\n",
       "\n",
       "    .dataframe thead th {\n",
       "        text-align: right;\n",
       "    }\n",
       "</style>\n",
       "<table border=\"1\" class=\"dataframe\">\n",
       "  <thead>\n",
       "    <tr style=\"text-align: right;\">\n",
       "      <th></th>\n",
       "      <th>Gender</th>\n",
       "      <th>Age</th>\n",
       "      <th>Employment Status</th>\n",
       "      <th>Race/Ethnicity</th>\n",
       "      <th>Relationship Status</th>\n",
       "      <th>Currently have children</th>\n",
       "      <th>Q1</th>\n",
       "      <th>Q2</th>\n",
       "      <th>Q3</th>\n",
       "      <th>Q4</th>\n",
       "      <th>...</th>\n",
       "      <th>Q21</th>\n",
       "      <th>Q22</th>\n",
       "      <th>Q23</th>\n",
       "      <th>Q24</th>\n",
       "      <th>Q25</th>\n",
       "      <th>Q26</th>\n",
       "      <th>Q27</th>\n",
       "      <th>Q28</th>\n",
       "      <th>Q29</th>\n",
       "      <th>Q30</th>\n",
       "    </tr>\n",
       "  </thead>\n",
       "  <tbody>\n",
       "    <tr>\n",
       "      <th>0</th>\n",
       "      <td>Female</td>\n",
       "      <td>19</td>\n",
       "      <td>Student</td>\n",
       "      <td>African American</td>\n",
       "      <td>Single, but not in a relationship</td>\n",
       "      <td>No</td>\n",
       "      <td>5</td>\n",
       "      <td>2</td>\n",
       "      <td>5.0</td>\n",
       "      <td>5</td>\n",
       "      <td>...</td>\n",
       "      <td>3.0</td>\n",
       "      <td>5.0</td>\n",
       "      <td>2.0</td>\n",
       "      <td>5.0</td>\n",
       "      <td>2.0</td>\n",
       "      <td>2.0</td>\n",
       "      <td>3.0</td>\n",
       "      <td>1.0</td>\n",
       "      <td>4.0</td>\n",
       "      <td>3.0</td>\n",
       "    </tr>\n",
       "    <tr>\n",
       "      <th>1</th>\n",
       "      <td>Female</td>\n",
       "      <td>27</td>\n",
       "      <td>Currently unemployed</td>\n",
       "      <td>African American</td>\n",
       "      <td>Single, but not in a relationship</td>\n",
       "      <td>No</td>\n",
       "      <td>4</td>\n",
       "      <td>4</td>\n",
       "      <td>5.0</td>\n",
       "      <td>5</td>\n",
       "      <td>...</td>\n",
       "      <td>3.0</td>\n",
       "      <td>4.0</td>\n",
       "      <td>3.0</td>\n",
       "      <td>1.0</td>\n",
       "      <td>2.0</td>\n",
       "      <td>2.0</td>\n",
       "      <td>1.0</td>\n",
       "      <td>2.0</td>\n",
       "      <td>1.0</td>\n",
       "      <td>1.0</td>\n",
       "    </tr>\n",
       "    <tr>\n",
       "      <th>2</th>\n",
       "      <td>Female</td>\n",
       "      <td>27</td>\n",
       "      <td>Employee</td>\n",
       "      <td>Haitian-American</td>\n",
       "      <td>Single, but not in a relationship</td>\n",
       "      <td>No</td>\n",
       "      <td>1</td>\n",
       "      <td>1</td>\n",
       "      <td>4.0</td>\n",
       "      <td>1</td>\n",
       "      <td>...</td>\n",
       "      <td>1.0</td>\n",
       "      <td>1.0</td>\n",
       "      <td>1.0</td>\n",
       "      <td>1.0</td>\n",
       "      <td>1.0</td>\n",
       "      <td>1.0</td>\n",
       "      <td>1.0</td>\n",
       "      <td>3.0</td>\n",
       "      <td>1.0</td>\n",
       "      <td>1.0</td>\n",
       "    </tr>\n",
       "    <tr>\n",
       "      <th>3</th>\n",
       "      <td>Female</td>\n",
       "      <td>45</td>\n",
       "      <td>Employee</td>\n",
       "      <td>Haitian-American</td>\n",
       "      <td>Married</td>\n",
       "      <td>Yes</td>\n",
       "      <td>2</td>\n",
       "      <td>2</td>\n",
       "      <td>4.0</td>\n",
       "      <td>4</td>\n",
       "      <td>...</td>\n",
       "      <td>1.0</td>\n",
       "      <td>1.0</td>\n",
       "      <td>3.0</td>\n",
       "      <td>3.0</td>\n",
       "      <td>1.0</td>\n",
       "      <td>1.0</td>\n",
       "      <td>2.0</td>\n",
       "      <td>2.0</td>\n",
       "      <td>1.0</td>\n",
       "      <td>1.0</td>\n",
       "    </tr>\n",
       "    <tr>\n",
       "      <th>4</th>\n",
       "      <td>Female</td>\n",
       "      <td>31</td>\n",
       "      <td>Employee</td>\n",
       "      <td>African American</td>\n",
       "      <td>Married</td>\n",
       "      <td>Yes</td>\n",
       "      <td>3</td>\n",
       "      <td>3</td>\n",
       "      <td>5.0</td>\n",
       "      <td>3</td>\n",
       "      <td>...</td>\n",
       "      <td>2.0</td>\n",
       "      <td>1.0</td>\n",
       "      <td>3.0</td>\n",
       "      <td>4.0</td>\n",
       "      <td>1.0</td>\n",
       "      <td>1.0</td>\n",
       "      <td>1.0</td>\n",
       "      <td>1.0</td>\n",
       "      <td>1.0</td>\n",
       "      <td>1.0</td>\n",
       "    </tr>\n",
       "  </tbody>\n",
       "</table>\n",
       "<p>5 rows × 36 columns</p>\n",
       "</div>"
      ],
      "text/plain": [
       "   Gender  Age     Employment Status    Race/Ethnicity  \\\n",
       "0  Female   19               Student  African American   \n",
       "1  Female   27  Currently unemployed  African American   \n",
       "2  Female   27              Employee  Haitian-American   \n",
       "3  Female   45              Employee  Haitian-American   \n",
       "4  Female   31              Employee  African American   \n",
       "\n",
       "                 Relationship Status Currently have children  Q1  Q2   Q3  Q4  \\\n",
       "0  Single, but not in a relationship                      No   5   2  5.0   5   \n",
       "1  Single, but not in a relationship                      No   4   4  5.0   5   \n",
       "2  Single, but not in a relationship                      No   1   1  4.0   1   \n",
       "3                            Married                     Yes   2   2  4.0   4   \n",
       "4                            Married                     Yes   3   3  5.0   3   \n",
       "\n",
       "   ...  Q21  Q22  Q23  Q24  Q25  Q26  Q27  Q28  Q29  Q30  \n",
       "0  ...  3.0  5.0  2.0  5.0  2.0  2.0  3.0  1.0  4.0  3.0  \n",
       "1  ...  3.0  4.0  3.0  1.0  2.0  2.0  1.0  2.0  1.0  1.0  \n",
       "2  ...  1.0  1.0  1.0  1.0  1.0  1.0  1.0  3.0  1.0  1.0  \n",
       "3  ...  1.0  1.0  3.0  3.0  1.0  1.0  2.0  2.0  1.0  1.0  \n",
       "4  ...  2.0  1.0  3.0  4.0  1.0  1.0  1.0  1.0  1.0  1.0  \n",
       "\n",
       "[5 rows x 36 columns]"
      ]
     },
     "execution_count": 2,
     "metadata": {},
     "output_type": "execute_result"
    }
   ],
   "source": [
    "child_survey = pd.read_csv('./ChildlessnessNJ.csv')\n",
    "child_survey.head()"
   ]
  },
  {
   "cell_type": "code",
   "execution_count": 9,
   "metadata": {},
   "outputs": [
    {
     "data": {
      "text/plain": [
       "array(['African American', 'Haitian-American', 'Caucasian / White',\n",
       "       'Mixed Race', 'Indian', 'Jamaican', 'South American- Brazil',\n",
       "       'Asian', 'Hispanic'], dtype=object)"
      ]
     },
     "execution_count": 9,
     "metadata": {},
     "output_type": "execute_result"
    }
   ],
   "source": [
    "child_survey['Race/Ethnicity'].unique()"
   ]
  },
  {
   "cell_type": "code",
   "execution_count": 3,
   "metadata": {},
   "outputs": [
    {
     "data": {
      "text/html": [
       "<div>\n",
       "<style scoped>\n",
       "    .dataframe tbody tr th:only-of-type {\n",
       "        vertical-align: middle;\n",
       "    }\n",
       "\n",
       "    .dataframe tbody tr th {\n",
       "        vertical-align: top;\n",
       "    }\n",
       "\n",
       "    .dataframe thead th {\n",
       "        text-align: right;\n",
       "    }\n",
       "</style>\n",
       "<table border=\"1\" class=\"dataframe\">\n",
       "  <thead>\n",
       "    <tr style=\"text-align: right;\">\n",
       "      <th></th>\n",
       "      <th>Country_Name</th>\n",
       "      <th>Country_Code</th>\n",
       "      <th>Year</th>\n",
       "      <th>Birth_Rate</th>\n",
       "    </tr>\n",
       "  </thead>\n",
       "  <tbody>\n",
       "    <tr>\n",
       "      <th>0</th>\n",
       "      <td>Aruba</td>\n",
       "      <td>ABW</td>\n",
       "      <td>1960</td>\n",
       "      <td>4.820000</td>\n",
       "    </tr>\n",
       "    <tr>\n",
       "      <th>1</th>\n",
       "      <td>Africa Eastern and Southern</td>\n",
       "      <td>AFE</td>\n",
       "      <td>1960</td>\n",
       "      <td>6.724125</td>\n",
       "    </tr>\n",
       "    <tr>\n",
       "      <th>2</th>\n",
       "      <td>Afghanistan</td>\n",
       "      <td>AFG</td>\n",
       "      <td>1960</td>\n",
       "      <td>7.282000</td>\n",
       "    </tr>\n",
       "    <tr>\n",
       "      <th>3</th>\n",
       "      <td>Africa Western and Central</td>\n",
       "      <td>AFW</td>\n",
       "      <td>1960</td>\n",
       "      <td>6.458448</td>\n",
       "    </tr>\n",
       "    <tr>\n",
       "      <th>4</th>\n",
       "      <td>Angola</td>\n",
       "      <td>AGO</td>\n",
       "      <td>1960</td>\n",
       "      <td>6.708000</td>\n",
       "    </tr>\n",
       "  </tbody>\n",
       "</table>\n",
       "</div>"
      ],
      "text/plain": [
       "                  Country_Name Country_Code  Year  Birth_Rate\n",
       "0                        Aruba          ABW  1960    4.820000\n",
       "1  Africa Eastern and Southern          AFE  1960    6.724125\n",
       "2                  Afghanistan          AFG  1960    7.282000\n",
       "3   Africa Western and Central          AFW  1960    6.458448\n",
       "4                       Angola          AGO  1960    6.708000"
      ]
     },
     "execution_count": 3,
     "metadata": {},
     "output_type": "execute_result"
    }
   ],
   "source": [
    "birth_rate_df = pd.read_csv(\"./data_clean/birth_rate_clean.csv\")\n",
    "birth_rate_df.head()"
   ]
  },
  {
   "cell_type": "code",
   "execution_count": 4,
   "metadata": {},
   "outputs": [
    {
     "data": {
      "text/plain": [
       "266"
      ]
     },
     "execution_count": 4,
     "metadata": {},
     "output_type": "execute_result"
    }
   ],
   "source": [
    "birthrate_code = birth_rate_df['Country_Code'].unique()\n",
    "len(birthrate_code)"
   ]
  },
  {
   "cell_type": "code",
   "execution_count": 70,
   "metadata": {},
   "outputs": [
    {
     "data": {
      "text/plain": [
       "array(['Southern Asia', 'Northern Europe', 'Southern Europe',\n",
       "       'Northern Africa', 'Polynesia', 'Sub-Saharan Africa',\n",
       "       'Latin America and the Caribbean', nan, 'Western Asia',\n",
       "       'Australia and New Zealand', 'Western Europe', 'Eastern Europe',\n",
       "       'Northern America', 'South-eastern Asia', 'Eastern Asia',\n",
       "       'Melanesia', 'Micronesia', 'Central Asia'], dtype=object)"
      ]
     },
     "execution_count": 70,
     "metadata": {},
     "output_type": "execute_result"
    }
   ],
   "source": [
    "continents['sub-region'].unique()"
   ]
  },
  {
   "cell_type": "code",
   "execution_count": 7,
   "metadata": {},
   "outputs": [
    {
     "data": {
      "text/plain": [
       "array(['Asia', 'Europe', 'Africa', 'Oceania', 'Americas', nan],\n",
       "      dtype=object)"
      ]
     },
     "execution_count": 7,
     "metadata": {},
     "output_type": "execute_result"
    }
   ],
   "source": [
    "continents = pd.read_csv('./continents.csv')\n",
    "country_code_region = continents[['alpha-3', 'region', 'sub-region']]\n",
    "country_code_region.region.unique()"
   ]
  },
  {
   "cell_type": "code",
   "execution_count": 55,
   "metadata": {},
   "outputs": [
    {
     "data": {
      "text/html": [
       "<div>\n",
       "<style scoped>\n",
       "    .dataframe tbody tr th:only-of-type {\n",
       "        vertical-align: middle;\n",
       "    }\n",
       "\n",
       "    .dataframe tbody tr th {\n",
       "        vertical-align: top;\n",
       "    }\n",
       "\n",
       "    .dataframe thead th {\n",
       "        text-align: right;\n",
       "    }\n",
       "</style>\n",
       "<table border=\"1\" class=\"dataframe\">\n",
       "  <thead>\n",
       "    <tr style=\"text-align: right;\">\n",
       "      <th></th>\n",
       "      <th>alpha-3</th>\n",
       "      <th>region</th>\n",
       "    </tr>\n",
       "  </thead>\n",
       "  <tbody>\n",
       "    <tr>\n",
       "      <th>0</th>\n",
       "      <td>AFG</td>\n",
       "      <td>Asia</td>\n",
       "    </tr>\n",
       "    <tr>\n",
       "      <th>1</th>\n",
       "      <td>ALA</td>\n",
       "      <td>Europe</td>\n",
       "    </tr>\n",
       "    <tr>\n",
       "      <th>2</th>\n",
       "      <td>ALB</td>\n",
       "      <td>Europe</td>\n",
       "    </tr>\n",
       "    <tr>\n",
       "      <th>3</th>\n",
       "      <td>DZA</td>\n",
       "      <td>Africa</td>\n",
       "    </tr>\n",
       "    <tr>\n",
       "      <th>4</th>\n",
       "      <td>ASM</td>\n",
       "      <td>Oceania</td>\n",
       "    </tr>\n",
       "    <tr>\n",
       "      <th>...</th>\n",
       "      <td>...</td>\n",
       "      <td>...</td>\n",
       "    </tr>\n",
       "    <tr>\n",
       "      <th>244</th>\n",
       "      <td>WLF</td>\n",
       "      <td>Oceania</td>\n",
       "    </tr>\n",
       "    <tr>\n",
       "      <th>245</th>\n",
       "      <td>ESH</td>\n",
       "      <td>Africa</td>\n",
       "    </tr>\n",
       "    <tr>\n",
       "      <th>246</th>\n",
       "      <td>YEM</td>\n",
       "      <td>Asia</td>\n",
       "    </tr>\n",
       "    <tr>\n",
       "      <th>247</th>\n",
       "      <td>ZMB</td>\n",
       "      <td>Africa</td>\n",
       "    </tr>\n",
       "    <tr>\n",
       "      <th>248</th>\n",
       "      <td>ZWE</td>\n",
       "      <td>Africa</td>\n",
       "    </tr>\n",
       "  </tbody>\n",
       "</table>\n",
       "<p>249 rows × 2 columns</p>\n",
       "</div>"
      ],
      "text/plain": [
       "    alpha-3   region\n",
       "0       AFG     Asia\n",
       "1       ALA   Europe\n",
       "2       ALB   Europe\n",
       "3       DZA   Africa\n",
       "4       ASM  Oceania\n",
       "..      ...      ...\n",
       "244     WLF  Oceania\n",
       "245     ESH   Africa\n",
       "246     YEM     Asia\n",
       "247     ZMB   Africa\n",
       "248     ZWE   Africa\n",
       "\n",
       "[249 rows x 2 columns]"
      ]
     },
     "execution_count": 55,
     "metadata": {},
     "output_type": "execute_result"
    }
   ],
   "source": [
    "country_code_region"
   ]
  },
  {
   "cell_type": "code",
   "execution_count": 63,
   "metadata": {},
   "outputs": [
    {
     "data": {
      "text/plain": [
       "{'AFE',\n",
       " 'AFW',\n",
       " 'ARB',\n",
       " 'CEB',\n",
       " 'CHI',\n",
       " 'CSS',\n",
       " 'EAP',\n",
       " 'EAR',\n",
       " 'EAS',\n",
       " 'ECA',\n",
       " 'ECS',\n",
       " 'EMU',\n",
       " 'EUU',\n",
       " 'FCS',\n",
       " 'HIC',\n",
       " 'HPC',\n",
       " 'IBD',\n",
       " 'IBT',\n",
       " 'IDA',\n",
       " 'IDB',\n",
       " 'IDX',\n",
       " 'INX',\n",
       " 'LAC',\n",
       " 'LCN',\n",
       " 'LDC',\n",
       " 'LIC',\n",
       " 'LMC',\n",
       " 'LMY',\n",
       " 'LTE',\n",
       " 'MEA',\n",
       " 'MIC',\n",
       " 'MNA',\n",
       " 'NAC',\n",
       " 'OED',\n",
       " 'OSS',\n",
       " 'PRE',\n",
       " 'PSS',\n",
       " 'PST',\n",
       " 'SAS',\n",
       " 'SSA',\n",
       " 'SSF',\n",
       " 'SST',\n",
       " 'TEA',\n",
       " 'TEC',\n",
       " 'TLA',\n",
       " 'TMN',\n",
       " 'TSA',\n",
       " 'TSS',\n",
       " 'UMC',\n",
       " 'WLD',\n",
       " 'XKX'}"
      ]
     },
     "execution_count": 63,
     "metadata": {},
     "output_type": "execute_result"
    }
   ],
   "source": [
    "set(birthrate_code).difference(set(country_code_region['alpha-3']))"
   ]
  },
  {
   "cell_type": "code",
   "execution_count": 23,
   "metadata": {},
   "outputs": [
    {
     "data": {
      "text/plain": [
       "array(['Latin America and the Caribbean', None, 'Asia', 'Africa',\n",
       "       'Europe', 'Oceania', 'Northern America'], dtype=object)"
      ]
     },
     "execution_count": 23,
     "metadata": {},
     "output_type": "execute_result"
    }
   ],
   "source": [
    "def add_region(country_code):\n",
    "    region = country_code_region.loc[country_code_region['alpha-3'] == country_code]\n",
    "\n",
    "    if region.empty:\n",
    "        return None\n",
    "\n",
    "    if region.region.item() == 'Americas':\n",
    "        return region['sub-region'].item()\n",
    "    else:\n",
    "        return region.region.item()\n",
    "\n",
    "birth_rate_df['region'] = birth_rate_df['Country_Code'].apply(add_region)\n",
    "birth_rate_df.region.unique()"
   ]
  },
  {
   "cell_type": "code",
   "execution_count": 29,
   "metadata": {},
   "outputs": [],
   "source": [
    "to_be_removed = birth_rate_df[birth_rate_df['region'].isnull()].Country_Name.unique()"
   ]
  },
  {
   "cell_type": "code",
   "execution_count": 32,
   "metadata": {},
   "outputs": [
    {
     "data": {
      "text/html": [
       "<div>\n",
       "<style scoped>\n",
       "    .dataframe tbody tr th:only-of-type {\n",
       "        vertical-align: middle;\n",
       "    }\n",
       "\n",
       "    .dataframe tbody tr th {\n",
       "        vertical-align: top;\n",
       "    }\n",
       "\n",
       "    .dataframe thead th {\n",
       "        text-align: right;\n",
       "    }\n",
       "</style>\n",
       "<table border=\"1\" class=\"dataframe\">\n",
       "  <thead>\n",
       "    <tr style=\"text-align: right;\">\n",
       "      <th></th>\n",
       "      <th>Country_Name</th>\n",
       "      <th>Country_Code</th>\n",
       "      <th>Year</th>\n",
       "      <th>Birth_Rate</th>\n",
       "      <th>region</th>\n",
       "    </tr>\n",
       "  </thead>\n",
       "  <tbody>\n",
       "    <tr>\n",
       "      <th>0</th>\n",
       "      <td>Aruba</td>\n",
       "      <td>ABW</td>\n",
       "      <td>1960</td>\n",
       "      <td>4.820</td>\n",
       "      <td>Latin America and the Caribbean</td>\n",
       "    </tr>\n",
       "    <tr>\n",
       "      <th>2</th>\n",
       "      <td>Afghanistan</td>\n",
       "      <td>AFG</td>\n",
       "      <td>1960</td>\n",
       "      <td>7.282</td>\n",
       "      <td>Asia</td>\n",
       "    </tr>\n",
       "    <tr>\n",
       "      <th>4</th>\n",
       "      <td>Angola</td>\n",
       "      <td>AGO</td>\n",
       "      <td>1960</td>\n",
       "      <td>6.708</td>\n",
       "      <td>Africa</td>\n",
       "    </tr>\n",
       "    <tr>\n",
       "      <th>5</th>\n",
       "      <td>Albania</td>\n",
       "      <td>ALB</td>\n",
       "      <td>1960</td>\n",
       "      <td>6.455</td>\n",
       "      <td>Europe</td>\n",
       "    </tr>\n",
       "    <tr>\n",
       "      <th>6</th>\n",
       "      <td>Andorra</td>\n",
       "      <td>AND</td>\n",
       "      <td>1960</td>\n",
       "      <td>NaN</td>\n",
       "      <td>Europe</td>\n",
       "    </tr>\n",
       "  </tbody>\n",
       "</table>\n",
       "</div>"
      ],
      "text/plain": [
       "  Country_Name Country_Code  Year  Birth_Rate                           region\n",
       "0        Aruba          ABW  1960       4.820  Latin America and the Caribbean\n",
       "2  Afghanistan          AFG  1960       7.282                             Asia\n",
       "4       Angola          AGO  1960       6.708                           Africa\n",
       "5      Albania          ALB  1960       6.455                           Europe\n",
       "6      Andorra          AND  1960         NaN                           Europe"
      ]
     },
     "execution_count": 32,
     "metadata": {},
     "output_type": "execute_result"
    }
   ],
   "source": [
    "birth_rate_df = birth_rate_df[~birth_rate_df.Country_Name.isin(to_be_removed)]\n",
    "birth_rate_df.head()"
   ]
  },
  {
   "cell_type": "code",
   "execution_count": 42,
   "metadata": {},
   "outputs": [
    {
     "data": {
      "text/html": [
       "<div>\n",
       "<style scoped>\n",
       "    .dataframe tbody tr th:only-of-type {\n",
       "        vertical-align: middle;\n",
       "    }\n",
       "\n",
       "    .dataframe tbody tr th {\n",
       "        vertical-align: top;\n",
       "    }\n",
       "\n",
       "    .dataframe thead th {\n",
       "        text-align: right;\n",
       "    }\n",
       "</style>\n",
       "<table border=\"1\" class=\"dataframe\">\n",
       "  <thead>\n",
       "    <tr style=\"text-align: right;\">\n",
       "      <th></th>\n",
       "      <th>Country_Name</th>\n",
       "      <th>Country_Code</th>\n",
       "      <th>Year</th>\n",
       "      <th>Birth_Rate</th>\n",
       "      <th>region</th>\n",
       "    </tr>\n",
       "  </thead>\n",
       "  <tbody>\n",
       "    <tr>\n",
       "      <th>27</th>\n",
       "      <td>Bermuda</td>\n",
       "      <td>BMU</td>\n",
       "      <td>1960</td>\n",
       "      <td>NaN</td>\n",
       "      <td>Northern America</td>\n",
       "    </tr>\n",
       "    <tr>\n",
       "      <th>35</th>\n",
       "      <td>Canada</td>\n",
       "      <td>CAN</td>\n",
       "      <td>1960</td>\n",
       "      <td>3.8110</td>\n",
       "      <td>Northern America</td>\n",
       "    </tr>\n",
       "    <tr>\n",
       "      <th>91</th>\n",
       "      <td>Greenland</td>\n",
       "      <td>GRL</td>\n",
       "      <td>1960</td>\n",
       "      <td>NaN</td>\n",
       "      <td>Northern America</td>\n",
       "    </tr>\n",
       "    <tr>\n",
       "      <th>251</th>\n",
       "      <td>United States</td>\n",
       "      <td>USA</td>\n",
       "      <td>1960</td>\n",
       "      <td>3.6540</td>\n",
       "      <td>Northern America</td>\n",
       "    </tr>\n",
       "    <tr>\n",
       "      <th>293</th>\n",
       "      <td>Bermuda</td>\n",
       "      <td>BMU</td>\n",
       "      <td>1961</td>\n",
       "      <td>NaN</td>\n",
       "      <td>Northern America</td>\n",
       "    </tr>\n",
       "    <tr>\n",
       "      <th>...</th>\n",
       "      <td>...</td>\n",
       "      <td>...</td>\n",
       "      <td>...</td>\n",
       "      <td>...</td>\n",
       "      <td>...</td>\n",
       "    </tr>\n",
       "    <tr>\n",
       "      <th>15945</th>\n",
       "      <td>United States</td>\n",
       "      <td>USA</td>\n",
       "      <td>2019</td>\n",
       "      <td>1.7060</td>\n",
       "      <td>Northern America</td>\n",
       "    </tr>\n",
       "    <tr>\n",
       "      <th>15987</th>\n",
       "      <td>Bermuda</td>\n",
       "      <td>BMU</td>\n",
       "      <td>2020</td>\n",
       "      <td>1.3000</td>\n",
       "      <td>Northern America</td>\n",
       "    </tr>\n",
       "    <tr>\n",
       "      <th>15995</th>\n",
       "      <td>Canada</td>\n",
       "      <td>CAN</td>\n",
       "      <td>2020</td>\n",
       "      <td>1.4000</td>\n",
       "      <td>Northern America</td>\n",
       "    </tr>\n",
       "    <tr>\n",
       "      <th>16051</th>\n",
       "      <td>Greenland</td>\n",
       "      <td>GRL</td>\n",
       "      <td>2020</td>\n",
       "      <td>2.0190</td>\n",
       "      <td>Northern America</td>\n",
       "    </tr>\n",
       "    <tr>\n",
       "      <th>16211</th>\n",
       "      <td>United States</td>\n",
       "      <td>USA</td>\n",
       "      <td>2020</td>\n",
       "      <td>1.6375</td>\n",
       "      <td>Northern America</td>\n",
       "    </tr>\n",
       "  </tbody>\n",
       "</table>\n",
       "<p>244 rows × 5 columns</p>\n",
       "</div>"
      ],
      "text/plain": [
       "        Country_Name Country_Code  Year  Birth_Rate            region\n",
       "27           Bermuda          BMU  1960         NaN  Northern America\n",
       "35            Canada          CAN  1960      3.8110  Northern America\n",
       "91         Greenland          GRL  1960         NaN  Northern America\n",
       "251    United States          USA  1960      3.6540  Northern America\n",
       "293          Bermuda          BMU  1961         NaN  Northern America\n",
       "...              ...          ...   ...         ...               ...\n",
       "15945  United States          USA  2019      1.7060  Northern America\n",
       "15987        Bermuda          BMU  2020      1.3000  Northern America\n",
       "15995         Canada          CAN  2020      1.4000  Northern America\n",
       "16051      Greenland          GRL  2020      2.0190  Northern America\n",
       "16211  United States          USA  2020      1.6375  Northern America\n",
       "\n",
       "[244 rows x 5 columns]"
      ]
     },
     "execution_count": 42,
     "metadata": {},
     "output_type": "execute_result"
    }
   ],
   "source": [
    "birth_rate_df[birth_rate_df.region == 'Northern America']"
   ]
  },
  {
   "cell_type": "code",
   "execution_count": 36,
   "metadata": {},
   "outputs": [
    {
     "data": {
      "text/html": [
       "<div>\n",
       "<style scoped>\n",
       "    .dataframe tbody tr th:only-of-type {\n",
       "        vertical-align: middle;\n",
       "    }\n",
       "\n",
       "    .dataframe tbody tr th {\n",
       "        vertical-align: top;\n",
       "    }\n",
       "\n",
       "    .dataframe thead th {\n",
       "        text-align: right;\n",
       "    }\n",
       "</style>\n",
       "<table border=\"1\" class=\"dataframe\">\n",
       "  <thead>\n",
       "    <tr style=\"text-align: right;\">\n",
       "      <th></th>\n",
       "      <th>country</th>\n",
       "      <th>continent</th>\n",
       "      <th>year</th>\n",
       "      <th>lifeExp</th>\n",
       "      <th>pop</th>\n",
       "      <th>gdpPercap</th>\n",
       "      <th>iso_alpha</th>\n",
       "      <th>iso_num</th>\n",
       "    </tr>\n",
       "  </thead>\n",
       "  <tbody>\n",
       "    <tr>\n",
       "      <th>11</th>\n",
       "      <td>Afghanistan</td>\n",
       "      <td>Asia</td>\n",
       "      <td>2007</td>\n",
       "      <td>43.828</td>\n",
       "      <td>31889923</td>\n",
       "      <td>974.580338</td>\n",
       "      <td>AFG</td>\n",
       "      <td>4</td>\n",
       "    </tr>\n",
       "    <tr>\n",
       "      <th>23</th>\n",
       "      <td>Albania</td>\n",
       "      <td>Europe</td>\n",
       "      <td>2007</td>\n",
       "      <td>76.423</td>\n",
       "      <td>3600523</td>\n",
       "      <td>5937.029526</td>\n",
       "      <td>ALB</td>\n",
       "      <td>8</td>\n",
       "    </tr>\n",
       "    <tr>\n",
       "      <th>35</th>\n",
       "      <td>Algeria</td>\n",
       "      <td>Africa</td>\n",
       "      <td>2007</td>\n",
       "      <td>72.301</td>\n",
       "      <td>33333216</td>\n",
       "      <td>6223.367465</td>\n",
       "      <td>DZA</td>\n",
       "      <td>12</td>\n",
       "    </tr>\n",
       "    <tr>\n",
       "      <th>47</th>\n",
       "      <td>Angola</td>\n",
       "      <td>Africa</td>\n",
       "      <td>2007</td>\n",
       "      <td>42.731</td>\n",
       "      <td>12420476</td>\n",
       "      <td>4797.231267</td>\n",
       "      <td>AGO</td>\n",
       "      <td>24</td>\n",
       "    </tr>\n",
       "    <tr>\n",
       "      <th>59</th>\n",
       "      <td>Argentina</td>\n",
       "      <td>Americas</td>\n",
       "      <td>2007</td>\n",
       "      <td>75.320</td>\n",
       "      <td>40301927</td>\n",
       "      <td>12779.379640</td>\n",
       "      <td>ARG</td>\n",
       "      <td>32</td>\n",
       "    </tr>\n",
       "    <tr>\n",
       "      <th>...</th>\n",
       "      <td>...</td>\n",
       "      <td>...</td>\n",
       "      <td>...</td>\n",
       "      <td>...</td>\n",
       "      <td>...</td>\n",
       "      <td>...</td>\n",
       "      <td>...</td>\n",
       "      <td>...</td>\n",
       "    </tr>\n",
       "    <tr>\n",
       "      <th>1655</th>\n",
       "      <td>Vietnam</td>\n",
       "      <td>Asia</td>\n",
       "      <td>2007</td>\n",
       "      <td>74.249</td>\n",
       "      <td>85262356</td>\n",
       "      <td>2441.576404</td>\n",
       "      <td>VNM</td>\n",
       "      <td>704</td>\n",
       "    </tr>\n",
       "    <tr>\n",
       "      <th>1667</th>\n",
       "      <td>West Bank and Gaza</td>\n",
       "      <td>Asia</td>\n",
       "      <td>2007</td>\n",
       "      <td>73.422</td>\n",
       "      <td>4018332</td>\n",
       "      <td>3025.349798</td>\n",
       "      <td>PSE</td>\n",
       "      <td>275</td>\n",
       "    </tr>\n",
       "    <tr>\n",
       "      <th>1679</th>\n",
       "      <td>Yemen, Rep.</td>\n",
       "      <td>Asia</td>\n",
       "      <td>2007</td>\n",
       "      <td>62.698</td>\n",
       "      <td>22211743</td>\n",
       "      <td>2280.769906</td>\n",
       "      <td>YEM</td>\n",
       "      <td>887</td>\n",
       "    </tr>\n",
       "    <tr>\n",
       "      <th>1691</th>\n",
       "      <td>Zambia</td>\n",
       "      <td>Africa</td>\n",
       "      <td>2007</td>\n",
       "      <td>42.384</td>\n",
       "      <td>11746035</td>\n",
       "      <td>1271.211593</td>\n",
       "      <td>ZMB</td>\n",
       "      <td>894</td>\n",
       "    </tr>\n",
       "    <tr>\n",
       "      <th>1703</th>\n",
       "      <td>Zimbabwe</td>\n",
       "      <td>Africa</td>\n",
       "      <td>2007</td>\n",
       "      <td>43.487</td>\n",
       "      <td>12311143</td>\n",
       "      <td>469.709298</td>\n",
       "      <td>ZWE</td>\n",
       "      <td>716</td>\n",
       "    </tr>\n",
       "  </tbody>\n",
       "</table>\n",
       "<p>142 rows × 8 columns</p>\n",
       "</div>"
      ],
      "text/plain": [
       "                 country continent  year  lifeExp       pop     gdpPercap  \\\n",
       "11           Afghanistan      Asia  2007   43.828  31889923    974.580338   \n",
       "23               Albania    Europe  2007   76.423   3600523   5937.029526   \n",
       "35               Algeria    Africa  2007   72.301  33333216   6223.367465   \n",
       "47                Angola    Africa  2007   42.731  12420476   4797.231267   \n",
       "59             Argentina  Americas  2007   75.320  40301927  12779.379640   \n",
       "...                  ...       ...   ...      ...       ...           ...   \n",
       "1655             Vietnam      Asia  2007   74.249  85262356   2441.576404   \n",
       "1667  West Bank and Gaza      Asia  2007   73.422   4018332   3025.349798   \n",
       "1679         Yemen, Rep.      Asia  2007   62.698  22211743   2280.769906   \n",
       "1691              Zambia    Africa  2007   42.384  11746035   1271.211593   \n",
       "1703            Zimbabwe    Africa  2007   43.487  12311143    469.709298   \n",
       "\n",
       "     iso_alpha  iso_num  \n",
       "11         AFG        4  \n",
       "23         ALB        8  \n",
       "35         DZA       12  \n",
       "47         AGO       24  \n",
       "59         ARG       32  \n",
       "...        ...      ...  \n",
       "1655       VNM      704  \n",
       "1667       PSE      275  \n",
       "1679       YEM      887  \n",
       "1691       ZMB      894  \n",
       "1703       ZWE      716  \n",
       "\n",
       "[142 rows x 8 columns]"
      ]
     },
     "execution_count": 36,
     "metadata": {},
     "output_type": "execute_result"
    }
   ],
   "source": [
    "import plotly.express as px\n",
    "import numpy as np\n",
    "df = px.data.gapminder().query(\"year == 2007\")\n",
    "df\n"
   ]
  },
  {
   "cell_type": "code",
   "execution_count": 45,
   "metadata": {},
   "outputs": [
    {
     "data": {
      "application/vnd.plotly.v1+json": {
       "config": {
        "plotlyServerURL": "https://plot.ly"
       },
       "data": [
        {
         "branchvalues": "total",
         "customdata": [
          [
           "AFG",
           7.137064830214344
          ],
          [
           "ALB",
           3.9527596496362163
          ],
          [
           "DZA",
           5.876103732205704
          ],
          [
           "ASM",
           null
          ],
          [
           "AND",
           null
          ],
          [
           "AGO",
           6.902886413107249
          ],
          [
           "ATG",
           2.8574319553014007
          ],
          [
           "ARG",
           2.872044477697105
          ],
          [
           "ARM",
           2.830737678718837
          ],
          [
           "ABW",
           2.6814360935579837
          ],
          [
           "AUS",
           2.261360611393311
          ],
          [
           "AUT",
           1.8561968892261
          ],
          [
           "AZE",
           3.795807576906505
          ],
          [
           "BHS",
           3.1472147391337777
          ],
          [
           "BHR",
           4.862727510707281
          ],
          [
           "BGD",
           5.367238260361854
          ],
          [
           "BRB",
           2.5404775448991748
          ],
          [
           "BLR",
           1.9254787245444802
          ],
          [
           "BEL",
           1.9032472160356344
          ],
          [
           "BLZ",
           5.061672337448797
          ],
          [
           "BEN",
           6.327488648111072
          ],
          [
           "BMU",
           null
          ],
          [
           "BTN",
           5.545575468130024
          ],
          [
           "BOL",
           4.980669343639093
          ],
          [
           "BIH",
           2.3057746994164297
          ],
          [
           "BWA",
           5.252362680147159
          ],
          [
           "BRA",
           3.924986111591631
          ],
          [
           "VGB",
           2.9522337464265194
          ],
          [
           "BRN",
           4.352316119977363
          ],
          [
           "BGR",
           1.8494279366842543
          ],
          [
           "BFA",
           6.546581794338588
          ],
          [
           "BDI",
           6.906207164881745
          ],
          [
           "CPV",
           5.572521403115634
          ],
          [
           "KHM",
           4.950373566450314
          ],
          [
           "CMR",
           5.903379770510032
          ],
          [
           "CAN",
           2.108934361515786
          ],
          [
           "CYM",
           null
          ],
          [
           "CAF",
           5.977788448825875
          ],
          [
           "TCD",
           6.897034755096645
          ],
          [
           "CHL",
           2.9958569047706587
          ],
          [
           "CHN",
           3.9581154410247548
          ],
          [
           "COL",
           4.174311384219745
          ],
          [
           "COM",
           6.222052674478948
          ],
          [
           "COD",
           6.500415884441908
          ],
          [
           "COG",
           5.500044989899113
          ],
          [
           "CRI",
           3.9262569943946235
          ],
          [
           "CIV",
           6.764209953398221
          ],
          [
           "HRV",
           1.766560746774255
          ],
          [
           "CUB",
           2.798496738023888
          ],
          [
           "CUW",
           null
          ],
          [
           "CYP",
           2.4242853324948905
          ],
          [
           "CZE",
           1.8518104247820448
          ],
          [
           "DNK",
           1.8977180491278032
          ],
          [
           "DJI",
           5.757346667155645
          ],
          [
           "DMA",
           null
          ],
          [
           "DOM",
           4.733799094703285
          ],
          [
           "ECU",
           4.672074678179901
          ],
          [
           "EGY",
           5.004994006092864
          ],
          [
           "SLV",
           4.791351196115352
          ],
          [
           "GNQ",
           5.647052252994211
          ],
          [
           "ERI",
           5.926217141187583
          ],
          [
           "EST",
           1.8486206268221574
          ],
          [
           "SWZ",
           5.560097436159379
          ],
          [
           "ETH",
           6.622964859758167
          ],
          [
           "FRO",
           null
          ],
          [
           "FJI",
           4.002428514615231
          ],
          [
           "FIN",
           1.8832286150255815
          ],
          [
           "FRA",
           2.137593675889328
          ],
          [
           "PYF",
           4.127334723367784
          ],
          [
           "GAB",
           4.8911084810334
          ],
          [
           "GMB",
           6.010000561910166
          ],
          [
           "GEO",
           2.2865322612931216
          ],
          [
           "DEU",
           1.69525785905075
          ],
          [
           "GHA",
           5.806201666225087
          ],
          [
           "GIB",
           2.556188942768766
          ],
          [
           "GRC",
           1.8396376604850218
          ],
          [
           "GRL",
           null
          ],
          [
           "GRD",
           3.9112595988810392
          ],
          [
           "GUM",
           3.7483501355342295
          ],
          [
           "GTM",
           5.535125133269026
          ],
          [
           "GIN",
           6.0660573660245385
          ],
          [
           "GNB",
           5.911646930465885
          ],
          [
           "GUY",
           4.127427487834711
          ],
          [
           "HTI",
           5.120114505357034
          ],
          [
           "HND",
           5.745639548625672
          ],
          [
           "HKG",
           2.924121654326312
          ],
          [
           "HUN",
           1.741809357406329
          ],
          [
           "ISL",
           2.591436022488654
          ],
          [
           "IND",
           4.464536595873177
          ],
          [
           "IDN",
           4.107799266022199
          ],
          [
           "IRN",
           5.492986170471785
          ],
          [
           "IRQ",
           5.851651574803151
          ],
          [
           "IRL",
           2.882562014532698
          ],
          [
           "IMN",
           2.127765754068457
          ],
          [
           "ISR",
           3.25373532068654
          ],
          [
           "ITA",
           1.811632452607799
          ],
          [
           "JAM",
           3.9709290364004546
          ],
          [
           "JPN",
           1.696408572795026
          ],
          [
           "JOR",
           6.298032699395035
          ],
          [
           "KAZ",
           3.119325280213073
          ],
          [
           "KEN",
           6.538825502637578
          ],
          [
           "KIR",
           4.867421807647092
          ],
          [
           "PRK",
           2.754921709504419
          ],
          [
           "KOR",
           3.361528475319579
          ],
          [
           "KWT",
           5.119416143414741
          ],
          [
           "KGZ",
           4.082049560581431
          ],
          [
           "LAO",
           5.510862660696414
          ],
          [
           "LVA",
           1.7492714271910332
          ],
          [
           "LBN",
           3.9801763278373326
          ],
          [
           "LSO",
           4.886205976271727
          ],
          [
           "LBR",
           6.128976244017443
          ],
          [
           "LBY",
           6.163504389622167
          ],
          [
           "LIE",
           null
          ],
          [
           "LTU",
           1.9413178021978024
          ],
          [
           "LUX",
           null
          ],
          [
           "MAC",
           2.3878408196721304
          ],
          [
           "MDG",
           6.190832628539367
          ],
          [
           "MWI",
           6.591411696928354
          ],
          [
           "MYS",
           4.111949927280281
          ],
          [
           "MDV",
           5.986916146409981
          ],
          [
           "MLI",
           6.95844326468921
          ],
          [
           "MLT",
           2.0221960135782053
          ],
          [
           "MHL",
           null
          ],
          [
           "MRT",
           5.978312507828352
          ],
          [
           "MUS",
           3.4277034250394194
          ],
          [
           "MEX",
           4.799108556915336
          ],
          [
           "FSM",
           5.4659508945688975
          ],
          [
           "MDA",
           2.3013542150618207
          ],
          [
           "MCO",
           null
          ],
          [
           "MNG",
           5.571689286791716
          ],
          [
           "MNE",
           2.317902670022188
          ],
          [
           "MAR",
           5.131273510406532
          ],
          [
           "MOZ",
           6.098394978493982
          ],
          [
           "MMR",
           4.410976943600759
          ],
          [
           "NAM",
           5.386836717174162
          ],
          [
           "NRU",
           null
          ],
          [
           "NPL",
           4.9889139741474855
          ],
          [
           "NLD",
           2.045238095238095
          ],
          [
           "NCL",
           3.713575396031682
          ],
          [
           "NZL",
           2.565134729377873
          ],
          [
           "NIC",
           5.326417132216016
          ],
          [
           "NER",
           7.59016866894242
          ],
          [
           "NGA",
           6.30715041019539
          ],
          [
           "MKD",
           2.4801625255115005
          ],
          [
           "MNP",
           null
          ],
          [
           "NOR",
           2.105192651601366
          ],
          [
           "OMN",
           6.401863180859574
          ],
          [
           "PAK",
           5.990328798005439
          ],
          [
           "PLW",
           null
          ],
          [
           "PAN",
           3.9802967138751035
          ],
          [
           "PNG",
           5.2273985038217585
          ],
          [
           "PRY",
           4.757293424459408
          ],
          [
           "PER",
           4.837155543886263
          ],
          [
           "PHL",
           4.978687523147488
          ],
          [
           "POL",
           2.0293840579710145
          ],
          [
           "PRT",
           2.2448071216617205
          ],
          [
           "PRI",
           2.7843025095631435
          ],
          [
           "QAT",
           5.002208696219085
          ],
          [
           "ROU",
           2.134840083507307
          ],
          [
           "RUS",
           1.8404232542636523
          ],
          [
           "RWA",
           7.013301316845004
          ],
          [
           "WSM",
           5.828747195978414
          ],
          [
           "SMR",
           null
          ],
          [
           "STP",
           5.732342013118888
          ],
          [
           "SAU",
           6.143648347567768
          ],
          [
           "SEN",
           6.359806292139585
          ],
          [
           "SRB",
           null
          ],
          [
           "SYC",
           null
          ],
          [
           "SLE",
           6.14546215342147
          ],
          [
           "SGP",
           2.8461707692307696
          ],
          [
           "SXM",
           null
          ],
          [
           "SVK",
           2.1308928125260262
          ],
          [
           "SVN",
           1.8293297494416858
          ],
          [
           "SLB",
           5.906371593374457
          ],
          [
           "SOM",
           7.274939264029313
          ],
          [
           "ZAF",
           4.418403824230706
          ],
          [
           "SSD",
           6.8732627227488265
          ],
          [
           "ESP",
           2.1217983579058886
          ],
          [
           "LKA",
           3.4715332344370853
          ],
          [
           "KNA",
           null
          ],
          [
           "LCA",
           4.691312265776247
          ],
          [
           "MAF",
           4.1862262342099905
          ],
          [
           "VCT",
           4.519916266235953
          ],
          [
           "SDN",
           6.102692239870979
          ],
          [
           "SUR",
           4.29967154494587
          ],
          [
           "SWE",
           1.892663382883279
          ],
          [
           "CHE",
           1.7823539618276458
          ],
          [
           "SYR",
           6.052088996627823
          ],
          [
           "TJK",
           5.5102079000217445
          ],
          [
           "TZA",
           6.217191286314816
          ],
          [
           "THA",
           4.031331372123317
          ],
          [
           "TLS",
           5.498209029133891
          ],
          [
           "TGO",
           6.130188702206386
          ],
          [
           "TON",
           5.116492113437952
          ],
          [
           "TTO",
           3.158807273977643
          ],
          [
           "TUN",
           4.957288887174511
          ],
          [
           "TUR",
           4.283576474306752
          ],
          [
           "TKM",
           4.943843132670519
          ],
          [
           "TCA",
           4.155918183078415
          ],
          [
           "TUV",
           3.842171813989571
          ],
          [
           "UGA",
           6.748138672905961
          ],
          [
           "UKR",
           1.7762573874646899
          ],
          [
           "ARE",
           5.13125374524174
          ],
          [
           "GBR",
           2.0437517689170064
          ],
          [
           "USA",
           2.2167759322822738
          ],
          [
           "URY",
           2.4683805679590507
          ],
          [
           "UZB",
           4.876740242598732
          ],
          [
           "VUT",
           5.374410658584605
          ],
          [
           "VEN",
           4.201009584260901
          ],
          [
           "VNM",
           4.528008819541627
          ],
          [
           "VIR",
           3.46991506622169
          ],
          [
           "PSE",
           null
          ],
          [
           "YEM",
           7.483702003053151
          ],
          [
           "ZMB",
           6.4971456226851805
          ],
          [
           "ZWE",
           5.715858779613408
          ],
          [
           "(?)",
           null
          ],
          [
           "(?)",
           null
          ],
          [
           "(?)",
           null
          ],
          [
           "(?)",
           null
          ],
          [
           "(?)",
           null
          ],
          [
           "(?)",
           null
          ],
          [
           "(?)",
           null
          ]
         ],
         "domain": {
          "x": [
           0,
           1
          ],
          "y": [
           0,
           1
          ]
         },
         "hovertemplate": "labels=%{label}<br>Birth_Rate_sum=%{value}<br>parent=%{parent}<br>id=%{id}<br>Country_Code=%{customdata[0]}<br>Birth_Rate=%{color}<extra></extra>",
         "ids": [
          "world/Asia/Afghanistan",
          "world/Europe/Albania",
          "world/Africa/Algeria",
          "world/Oceania/American Samoa",
          "world/Europe/Andorra",
          "world/Africa/Angola",
          "world/Latin America and the Caribbean/Antigua and Barbuda",
          "world/Latin America and the Caribbean/Argentina",
          "world/Asia/Armenia",
          "world/Latin America and the Caribbean/Aruba",
          "world/Oceania/Australia",
          "world/Europe/Austria",
          "world/Asia/Azerbaijan",
          "world/Latin America and the Caribbean/Bahamas, The",
          "world/Asia/Bahrain",
          "world/Asia/Bangladesh",
          "world/Latin America and the Caribbean/Barbados",
          "world/Europe/Belarus",
          "world/Europe/Belgium",
          "world/Latin America and the Caribbean/Belize",
          "world/Africa/Benin",
          "world/Northern America/Bermuda",
          "world/Asia/Bhutan",
          "world/Latin America and the Caribbean/Bolivia",
          "world/Europe/Bosnia and Herzegovina",
          "world/Africa/Botswana",
          "world/Latin America and the Caribbean/Brazil",
          "world/Latin America and the Caribbean/British Virgin Islands",
          "world/Asia/Brunei Darussalam",
          "world/Europe/Bulgaria",
          "world/Africa/Burkina Faso",
          "world/Africa/Burundi",
          "world/Africa/Cabo Verde",
          "world/Asia/Cambodia",
          "world/Africa/Cameroon",
          "world/Northern America/Canada",
          "world/Latin America and the Caribbean/Cayman Islands",
          "world/Africa/Central African Republic",
          "world/Africa/Chad",
          "world/Latin America and the Caribbean/Chile",
          "world/Asia/China",
          "world/Latin America and the Caribbean/Colombia",
          "world/Africa/Comoros",
          "world/Africa/Congo, Dem. Rep.",
          "world/Africa/Congo, Rep.",
          "world/Latin America and the Caribbean/Costa Rica",
          "world/Africa/Cote d'Ivoire",
          "world/Europe/Croatia",
          "world/Latin America and the Caribbean/Cuba",
          "world/Latin America and the Caribbean/Curacao",
          "world/Asia/Cyprus",
          "world/Europe/Czechia",
          "world/Europe/Denmark",
          "world/Africa/Djibouti",
          "world/Latin America and the Caribbean/Dominica",
          "world/Latin America and the Caribbean/Dominican Republic",
          "world/Latin America and the Caribbean/Ecuador",
          "world/Africa/Egypt, Arab Rep.",
          "world/Latin America and the Caribbean/El Salvador",
          "world/Africa/Equatorial Guinea",
          "world/Africa/Eritrea",
          "world/Europe/Estonia",
          "world/Africa/Eswatini",
          "world/Africa/Ethiopia",
          "world/Europe/Faroe Islands",
          "world/Oceania/Fiji",
          "world/Europe/Finland",
          "world/Europe/France",
          "world/Oceania/French Polynesia",
          "world/Africa/Gabon",
          "world/Africa/Gambia, The",
          "world/Asia/Georgia",
          "world/Europe/Germany",
          "world/Africa/Ghana",
          "world/Europe/Gibraltar",
          "world/Europe/Greece",
          "world/Northern America/Greenland",
          "world/Latin America and the Caribbean/Grenada",
          "world/Oceania/Guam",
          "world/Latin America and the Caribbean/Guatemala",
          "world/Africa/Guinea",
          "world/Africa/Guinea-Bissau",
          "world/Latin America and the Caribbean/Guyana",
          "world/Latin America and the Caribbean/Haiti",
          "world/Latin America and the Caribbean/Honduras",
          "world/Asia/Hong Kong SAR, China",
          "world/Europe/Hungary",
          "world/Europe/Iceland",
          "world/Asia/India",
          "world/Asia/Indonesia",
          "world/Asia/Iran, Islamic Rep.",
          "world/Asia/Iraq",
          "world/Europe/Ireland",
          "world/Europe/Isle of Man",
          "world/Asia/Israel",
          "world/Europe/Italy",
          "world/Latin America and the Caribbean/Jamaica",
          "world/Asia/Japan",
          "world/Asia/Jordan",
          "world/Asia/Kazakhstan",
          "world/Africa/Kenya",
          "world/Oceania/Kiribati",
          "world/Asia/Korea, Dem. People's Rep.",
          "world/Asia/Korea, Rep.",
          "world/Asia/Kuwait",
          "world/Asia/Kyrgyz Republic",
          "world/Asia/Lao PDR",
          "world/Europe/Latvia",
          "world/Asia/Lebanon",
          "world/Africa/Lesotho",
          "world/Africa/Liberia",
          "world/Africa/Libya",
          "world/Europe/Liechtenstein",
          "world/Europe/Lithuania",
          "world/Europe/Luxembourg",
          "world/Asia/Macao SAR, China",
          "world/Africa/Madagascar",
          "world/Africa/Malawi",
          "world/Asia/Malaysia",
          "world/Asia/Maldives",
          "world/Africa/Mali",
          "world/Europe/Malta",
          "world/Oceania/Marshall Islands",
          "world/Africa/Mauritania",
          "world/Africa/Mauritius",
          "world/Latin America and the Caribbean/Mexico",
          "world/Oceania/Micronesia, Fed. Sts.",
          "world/Europe/Moldova",
          "world/Europe/Monaco",
          "world/Asia/Mongolia",
          "world/Europe/Montenegro",
          "world/Africa/Morocco",
          "world/Africa/Mozambique",
          "world/Asia/Myanmar",
          "world/Africa/Namibia",
          "world/Oceania/Nauru",
          "world/Asia/Nepal",
          "world/Europe/Netherlands",
          "world/Oceania/New Caledonia",
          "world/Oceania/New Zealand",
          "world/Latin America and the Caribbean/Nicaragua",
          "world/Africa/Niger",
          "world/Africa/Nigeria",
          "world/Europe/North Macedonia",
          "world/Oceania/Northern Mariana Islands",
          "world/Europe/Norway",
          "world/Asia/Oman",
          "world/Asia/Pakistan",
          "world/Oceania/Palau",
          "world/Latin America and the Caribbean/Panama",
          "world/Oceania/Papua New Guinea",
          "world/Latin America and the Caribbean/Paraguay",
          "world/Latin America and the Caribbean/Peru",
          "world/Asia/Philippines",
          "world/Europe/Poland",
          "world/Europe/Portugal",
          "world/Latin America and the Caribbean/Puerto Rico",
          "world/Asia/Qatar",
          "world/Europe/Romania",
          "world/Europe/Russian Federation",
          "world/Africa/Rwanda",
          "world/Oceania/Samoa",
          "world/Europe/San Marino",
          "world/Africa/Sao Tome and Principe",
          "world/Asia/Saudi Arabia",
          "world/Africa/Senegal",
          "world/Europe/Serbia",
          "world/Africa/Seychelles",
          "world/Africa/Sierra Leone",
          "world/Asia/Singapore",
          "world/Latin America and the Caribbean/Sint Maarten (Dutch part)",
          "world/Europe/Slovak Republic",
          "world/Europe/Slovenia",
          "world/Oceania/Solomon Islands",
          "world/Africa/Somalia",
          "world/Africa/South Africa",
          "world/Africa/South Sudan",
          "world/Europe/Spain",
          "world/Asia/Sri Lanka",
          "world/Latin America and the Caribbean/St. Kitts and Nevis",
          "world/Latin America and the Caribbean/St. Lucia",
          "world/Latin America and the Caribbean/St. Martin (French part)",
          "world/Latin America and the Caribbean/St. Vincent and the Grenadines",
          "world/Africa/Sudan",
          "world/Latin America and the Caribbean/Suriname",
          "world/Europe/Sweden",
          "world/Europe/Switzerland",
          "world/Asia/Syrian Arab Republic",
          "world/Asia/Tajikistan",
          "world/Africa/Tanzania",
          "world/Asia/Thailand",
          "world/Asia/Timor-Leste",
          "world/Africa/Togo",
          "world/Oceania/Tonga",
          "world/Latin America and the Caribbean/Trinidad and Tobago",
          "world/Africa/Tunisia",
          "world/Asia/Turkiye",
          "world/Asia/Turkmenistan",
          "world/Latin America and the Caribbean/Turks and Caicos Islands",
          "world/Oceania/Tuvalu",
          "world/Africa/Uganda",
          "world/Europe/Ukraine",
          "world/Asia/United Arab Emirates",
          "world/Europe/United Kingdom",
          "world/Northern America/United States",
          "world/Latin America and the Caribbean/Uruguay",
          "world/Asia/Uzbekistan",
          "world/Oceania/Vanuatu",
          "world/Latin America and the Caribbean/Venezuela, RB",
          "world/Asia/Vietnam",
          "world/Latin America and the Caribbean/Virgin Islands (U.S.)",
          "world/Asia/West Bank and Gaza",
          "world/Asia/Yemen, Rep.",
          "world/Africa/Zambia",
          "world/Africa/Zimbabwe",
          "world/Africa",
          "world/Asia",
          "world/Europe",
          "world/Latin America and the Caribbean",
          "world/Northern America",
          "world/Oceania",
          "world"
         ],
         "labels": [
          "Afghanistan",
          "Albania",
          "Algeria",
          "American Samoa",
          "Andorra",
          "Angola",
          "Antigua and Barbuda",
          "Argentina",
          "Armenia",
          "Aruba",
          "Australia",
          "Austria",
          "Azerbaijan",
          "Bahamas, The",
          "Bahrain",
          "Bangladesh",
          "Barbados",
          "Belarus",
          "Belgium",
          "Belize",
          "Benin",
          "Bermuda",
          "Bhutan",
          "Bolivia",
          "Bosnia and Herzegovina",
          "Botswana",
          "Brazil",
          "British Virgin Islands",
          "Brunei Darussalam",
          "Bulgaria",
          "Burkina Faso",
          "Burundi",
          "Cabo Verde",
          "Cambodia",
          "Cameroon",
          "Canada",
          "Cayman Islands",
          "Central African Republic",
          "Chad",
          "Chile",
          "China",
          "Colombia",
          "Comoros",
          "Congo, Dem. Rep.",
          "Congo, Rep.",
          "Costa Rica",
          "Cote d'Ivoire",
          "Croatia",
          "Cuba",
          "Curacao",
          "Cyprus",
          "Czechia",
          "Denmark",
          "Djibouti",
          "Dominica",
          "Dominican Republic",
          "Ecuador",
          "Egypt, Arab Rep.",
          "El Salvador",
          "Equatorial Guinea",
          "Eritrea",
          "Estonia",
          "Eswatini",
          "Ethiopia",
          "Faroe Islands",
          "Fiji",
          "Finland",
          "France",
          "French Polynesia",
          "Gabon",
          "Gambia, The",
          "Georgia",
          "Germany",
          "Ghana",
          "Gibraltar",
          "Greece",
          "Greenland",
          "Grenada",
          "Guam",
          "Guatemala",
          "Guinea",
          "Guinea-Bissau",
          "Guyana",
          "Haiti",
          "Honduras",
          "Hong Kong SAR, China",
          "Hungary",
          "Iceland",
          "India",
          "Indonesia",
          "Iran, Islamic Rep.",
          "Iraq",
          "Ireland",
          "Isle of Man",
          "Israel",
          "Italy",
          "Jamaica",
          "Japan",
          "Jordan",
          "Kazakhstan",
          "Kenya",
          "Kiribati",
          "Korea, Dem. People's Rep.",
          "Korea, Rep.",
          "Kuwait",
          "Kyrgyz Republic",
          "Lao PDR",
          "Latvia",
          "Lebanon",
          "Lesotho",
          "Liberia",
          "Libya",
          "Liechtenstein",
          "Lithuania",
          "Luxembourg",
          "Macao SAR, China",
          "Madagascar",
          "Malawi",
          "Malaysia",
          "Maldives",
          "Mali",
          "Malta",
          "Marshall Islands",
          "Mauritania",
          "Mauritius",
          "Mexico",
          "Micronesia, Fed. Sts.",
          "Moldova",
          "Monaco",
          "Mongolia",
          "Montenegro",
          "Morocco",
          "Mozambique",
          "Myanmar",
          "Namibia",
          "Nauru",
          "Nepal",
          "Netherlands",
          "New Caledonia",
          "New Zealand",
          "Nicaragua",
          "Niger",
          "Nigeria",
          "North Macedonia",
          "Northern Mariana Islands",
          "Norway",
          "Oman",
          "Pakistan",
          "Palau",
          "Panama",
          "Papua New Guinea",
          "Paraguay",
          "Peru",
          "Philippines",
          "Poland",
          "Portugal",
          "Puerto Rico",
          "Qatar",
          "Romania",
          "Russian Federation",
          "Rwanda",
          "Samoa",
          "San Marino",
          "Sao Tome and Principe",
          "Saudi Arabia",
          "Senegal",
          "Serbia",
          "Seychelles",
          "Sierra Leone",
          "Singapore",
          "Sint Maarten (Dutch part)",
          "Slovak Republic",
          "Slovenia",
          "Solomon Islands",
          "Somalia",
          "South Africa",
          "South Sudan",
          "Spain",
          "Sri Lanka",
          "St. Kitts and Nevis",
          "St. Lucia",
          "St. Martin (French part)",
          "St. Vincent and the Grenadines",
          "Sudan",
          "Suriname",
          "Sweden",
          "Switzerland",
          "Syrian Arab Republic",
          "Tajikistan",
          "Tanzania",
          "Thailand",
          "Timor-Leste",
          "Togo",
          "Tonga",
          "Trinidad and Tobago",
          "Tunisia",
          "Turkiye",
          "Turkmenistan",
          "Turks and Caicos Islands",
          "Tuvalu",
          "Uganda",
          "Ukraine",
          "United Arab Emirates",
          "United Kingdom",
          "United States",
          "Uruguay",
          "Uzbekistan",
          "Vanuatu",
          "Venezuela, RB",
          "Vietnam",
          "Virgin Islands (U.S.)",
          "West Bank and Gaza",
          "Yemen, Rep.",
          "Zambia",
          "Zimbabwe",
          "Africa",
          "Asia",
          "Europe",
          "Latin America and the Caribbean",
          "Northern America",
          "Oceania",
          "world"
         ],
         "marker": {
          "coloraxis": "coloraxis",
          "colors": [
           7.137064830214344,
           3.9527596496362163,
           5.876103732205704,
           null,
           null,
           6.902886413107249,
           2.8574319553014007,
           2.872044477697105,
           2.830737678718837,
           2.6814360935579837,
           2.261360611393311,
           1.8561968892261,
           3.795807576906505,
           3.1472147391337777,
           4.862727510707281,
           5.367238260361854,
           2.5404775448991748,
           1.9254787245444802,
           1.9032472160356344,
           5.061672337448797,
           6.327488648111072,
           null,
           5.545575468130024,
           4.980669343639093,
           2.3057746994164297,
           5.252362680147159,
           3.924986111591631,
           2.9522337464265194,
           4.352316119977363,
           1.8494279366842543,
           6.546581794338588,
           6.906207164881745,
           5.572521403115634,
           4.950373566450314,
           5.903379770510032,
           2.108934361515786,
           null,
           5.977788448825875,
           6.897034755096645,
           2.9958569047706587,
           3.9581154410247548,
           4.174311384219745,
           6.222052674478948,
           6.500415884441908,
           5.500044989899113,
           3.9262569943946235,
           6.764209953398221,
           1.766560746774255,
           2.798496738023888,
           null,
           2.4242853324948905,
           1.8518104247820448,
           1.8977180491278032,
           5.757346667155645,
           null,
           4.733799094703285,
           4.672074678179901,
           5.004994006092864,
           4.791351196115352,
           5.647052252994211,
           5.926217141187583,
           1.8486206268221574,
           5.560097436159379,
           6.622964859758167,
           null,
           4.002428514615231,
           1.8832286150255815,
           2.137593675889328,
           4.127334723367784,
           4.8911084810334,
           6.010000561910166,
           2.2865322612931216,
           1.69525785905075,
           5.806201666225087,
           2.556188942768766,
           1.8396376604850218,
           null,
           3.9112595988810392,
           3.7483501355342295,
           5.535125133269026,
           6.0660573660245385,
           5.911646930465885,
           4.127427487834711,
           5.120114505357034,
           5.745639548625672,
           2.924121654326312,
           1.741809357406329,
           2.591436022488654,
           4.464536595873177,
           4.107799266022199,
           5.492986170471785,
           5.851651574803151,
           2.882562014532698,
           2.127765754068457,
           3.25373532068654,
           1.811632452607799,
           3.9709290364004546,
           1.696408572795026,
           6.298032699395035,
           3.119325280213073,
           6.538825502637578,
           4.867421807647092,
           2.754921709504419,
           3.361528475319579,
           5.119416143414741,
           4.082049560581431,
           5.510862660696414,
           1.7492714271910332,
           3.9801763278373326,
           4.886205976271727,
           6.128976244017443,
           6.163504389622167,
           null,
           1.9413178021978024,
           null,
           2.3878408196721304,
           6.190832628539367,
           6.591411696928354,
           4.111949927280281,
           5.986916146409981,
           6.95844326468921,
           2.0221960135782053,
           null,
           5.978312507828352,
           3.4277034250394194,
           4.799108556915336,
           5.4659508945688975,
           2.3013542150618207,
           null,
           5.571689286791716,
           2.317902670022188,
           5.131273510406532,
           6.098394978493982,
           4.410976943600759,
           5.386836717174162,
           null,
           4.9889139741474855,
           2.045238095238095,
           3.713575396031682,
           2.565134729377873,
           5.326417132216016,
           7.59016866894242,
           6.30715041019539,
           2.4801625255115005,
           null,
           2.105192651601366,
           6.401863180859574,
           5.990328798005439,
           null,
           3.9802967138751035,
           5.2273985038217585,
           4.757293424459408,
           4.837155543886263,
           4.978687523147488,
           2.0293840579710145,
           2.2448071216617205,
           2.7843025095631435,
           5.002208696219085,
           2.134840083507307,
           1.8404232542636523,
           7.013301316845004,
           5.828747195978414,
           null,
           5.732342013118888,
           6.143648347567768,
           6.359806292139585,
           null,
           null,
           6.14546215342147,
           2.8461707692307696,
           null,
           2.1308928125260262,
           1.8293297494416858,
           5.906371593374457,
           7.274939264029313,
           4.418403824230706,
           6.8732627227488265,
           2.1217983579058886,
           3.4715332344370853,
           null,
           4.691312265776247,
           4.1862262342099905,
           4.519916266235953,
           6.102692239870979,
           4.29967154494587,
           1.892663382883279,
           1.7823539618276458,
           6.052088996627823,
           5.5102079000217445,
           6.217191286314816,
           4.031331372123317,
           5.498209029133891,
           6.130188702206386,
           5.116492113437952,
           3.158807273977643,
           4.957288887174511,
           4.283576474306752,
           4.943843132670519,
           4.155918183078415,
           3.842171813989571,
           6.748138672905961,
           1.7762573874646899,
           5.13125374524174,
           2.0437517689170064,
           2.2167759322822738,
           2.4683805679590507,
           4.876740242598732,
           5.374410658584605,
           4.201009584260901,
           4.528008819541627,
           3.46991506622169,
           null,
           7.483702003053151,
           6.4971456226851805,
           5.715858779613408,
           null,
           null,
           null,
           null,
           null,
           null,
           null
          ]
         },
         "name": "",
         "parents": [
          "world/Asia",
          "world/Europe",
          "world/Africa",
          "world/Oceania",
          "world/Europe",
          "world/Africa",
          "world/Latin America and the Caribbean",
          "world/Latin America and the Caribbean",
          "world/Asia",
          "world/Latin America and the Caribbean",
          "world/Oceania",
          "world/Europe",
          "world/Asia",
          "world/Latin America and the Caribbean",
          "world/Asia",
          "world/Asia",
          "world/Latin America and the Caribbean",
          "world/Europe",
          "world/Europe",
          "world/Latin America and the Caribbean",
          "world/Africa",
          "world/Northern America",
          "world/Asia",
          "world/Latin America and the Caribbean",
          "world/Europe",
          "world/Africa",
          "world/Latin America and the Caribbean",
          "world/Latin America and the Caribbean",
          "world/Asia",
          "world/Europe",
          "world/Africa",
          "world/Africa",
          "world/Africa",
          "world/Asia",
          "world/Africa",
          "world/Northern America",
          "world/Latin America and the Caribbean",
          "world/Africa",
          "world/Africa",
          "world/Latin America and the Caribbean",
          "world/Asia",
          "world/Latin America and the Caribbean",
          "world/Africa",
          "world/Africa",
          "world/Africa",
          "world/Latin America and the Caribbean",
          "world/Africa",
          "world/Europe",
          "world/Latin America and the Caribbean",
          "world/Latin America and the Caribbean",
          "world/Asia",
          "world/Europe",
          "world/Europe",
          "world/Africa",
          "world/Latin America and the Caribbean",
          "world/Latin America and the Caribbean",
          "world/Latin America and the Caribbean",
          "world/Africa",
          "world/Latin America and the Caribbean",
          "world/Africa",
          "world/Africa",
          "world/Europe",
          "world/Africa",
          "world/Africa",
          "world/Europe",
          "world/Oceania",
          "world/Europe",
          "world/Europe",
          "world/Oceania",
          "world/Africa",
          "world/Africa",
          "world/Asia",
          "world/Europe",
          "world/Africa",
          "world/Europe",
          "world/Europe",
          "world/Northern America",
          "world/Latin America and the Caribbean",
          "world/Oceania",
          "world/Latin America and the Caribbean",
          "world/Africa",
          "world/Africa",
          "world/Latin America and the Caribbean",
          "world/Latin America and the Caribbean",
          "world/Latin America and the Caribbean",
          "world/Asia",
          "world/Europe",
          "world/Europe",
          "world/Asia",
          "world/Asia",
          "world/Asia",
          "world/Asia",
          "world/Europe",
          "world/Europe",
          "world/Asia",
          "world/Europe",
          "world/Latin America and the Caribbean",
          "world/Asia",
          "world/Asia",
          "world/Asia",
          "world/Africa",
          "world/Oceania",
          "world/Asia",
          "world/Asia",
          "world/Asia",
          "world/Asia",
          "world/Asia",
          "world/Europe",
          "world/Asia",
          "world/Africa",
          "world/Africa",
          "world/Africa",
          "world/Europe",
          "world/Europe",
          "world/Europe",
          "world/Asia",
          "world/Africa",
          "world/Africa",
          "world/Asia",
          "world/Asia",
          "world/Africa",
          "world/Europe",
          "world/Oceania",
          "world/Africa",
          "world/Africa",
          "world/Latin America and the Caribbean",
          "world/Oceania",
          "world/Europe",
          "world/Europe",
          "world/Asia",
          "world/Europe",
          "world/Africa",
          "world/Africa",
          "world/Asia",
          "world/Africa",
          "world/Oceania",
          "world/Asia",
          "world/Europe",
          "world/Oceania",
          "world/Oceania",
          "world/Latin America and the Caribbean",
          "world/Africa",
          "world/Africa",
          "world/Europe",
          "world/Oceania",
          "world/Europe",
          "world/Asia",
          "world/Asia",
          "world/Oceania",
          "world/Latin America and the Caribbean",
          "world/Oceania",
          "world/Latin America and the Caribbean",
          "world/Latin America and the Caribbean",
          "world/Asia",
          "world/Europe",
          "world/Europe",
          "world/Latin America and the Caribbean",
          "world/Asia",
          "world/Europe",
          "world/Europe",
          "world/Africa",
          "world/Oceania",
          "world/Europe",
          "world/Africa",
          "world/Asia",
          "world/Africa",
          "world/Europe",
          "world/Africa",
          "world/Africa",
          "world/Asia",
          "world/Latin America and the Caribbean",
          "world/Europe",
          "world/Europe",
          "world/Oceania",
          "world/Africa",
          "world/Africa",
          "world/Africa",
          "world/Europe",
          "world/Asia",
          "world/Latin America and the Caribbean",
          "world/Latin America and the Caribbean",
          "world/Latin America and the Caribbean",
          "world/Latin America and the Caribbean",
          "world/Africa",
          "world/Latin America and the Caribbean",
          "world/Europe",
          "world/Europe",
          "world/Asia",
          "world/Asia",
          "world/Africa",
          "world/Asia",
          "world/Asia",
          "world/Africa",
          "world/Oceania",
          "world/Latin America and the Caribbean",
          "world/Africa",
          "world/Asia",
          "world/Asia",
          "world/Latin America and the Caribbean",
          "world/Oceania",
          "world/Africa",
          "world/Europe",
          "world/Asia",
          "world/Europe",
          "world/Northern America",
          "world/Latin America and the Caribbean",
          "world/Asia",
          "world/Oceania",
          "world/Latin America and the Caribbean",
          "world/Asia",
          "world/Latin America and the Caribbean",
          "world/Asia",
          "world/Asia",
          "world/Africa",
          "world/Africa",
          "world",
          "world",
          "world",
          "world",
          "world",
          "world",
          ""
         ],
         "type": "treemap",
         "values": [
          429.306,
          198.194,
          304.592,
          0,
          6.13,
          417.601,
          152.488,
          171.749,
          151.425,
          148.913,
          130.129,
          105.44,
          194.2521,
          169.03300000000002,
          249.83,
          280.886,
          136.027,
          111.96,
          112.25,
          277.328,
          382.095,
          35.45,
          290.838,
          285.148,
          122.179,
          289.208,
          202.327,
          140.969,
          220.875,
          108.03,
          395.767,
          418.039,
          296.312,
          275.627,
          356.094,
          117.035,
          0,
          364.569,
          419.737,
          163.206,
          179.321,
          214.648,
          368.053,
          396.199,
          329.674,
          202.841,
          399.341,
          105.092,
          139.486,
          29,
          133.581,
          107.82,
          112.36,
          327.213,
          20.22,
          246.549,
          251.305,
          282.954,
          252.275,
          342.411,
          352.531,
          109.76,
          313.241,
          394.818,
          131.4,
          226.305,
          111.41,
          126.5,
          217.021,
          292.936,
          364.827,
          134.883,
          97.34,
          339.69,
          148.066,
          105.15,
          104.999,
          210.91,
          214.337,
          315.152,
          366.541,
          355.624,
          227.286,
          297.366,
          314.772,
          125.199,
          103.02,
          147.63,
          248.375,
          223.44,
          266.965,
          343.408,
          159.64,
          125.539,
          195.939,
          101.81,
          202.47,
          100.364,
          345.144,
          180.22,
          373.828,
          285.808,
          156.443,
          147.303,
          259.276,
          233.149,
          311.768,
          103.49,
          214.277,
          282.785,
          367.318,
          315.403,
          31.45,
          113.75,
          98.5,
          109.8,
          365.355,
          391.419,
          221.398,
          302.575,
          423.44,
          114.89,
          29.16,
          359.271,
          166.801,
          247.262,
          307.746,
          133.45,
          0,
          281.755,
          134.306,
          270.359,
          368.734,
          238.372,
          309.855,
          0,
          277.033,
          115.71,
          199.984,
          144.408,
          283.536,
          462.557,
          383.23199999999997,
          137.683,
          0,
          123.02,
          343.775,
          351.757,
          13.46,
          220.229,
          307.45,
          266.883,
          257.085,
          280.808,
          115.92,
          121.32,
          148.4083,
          260.757,
          119.75,
          108.006,
          405.135,
          338.175,
          1.26,
          342.712,
          331.239,
          378.059,
          42.93,
          66.846,
          369.505,
          130,
          10.91,
          120.07,
          106.123,
          347.081,
          443.197,
          239.473,
          409.542,
          113.27,
          188.75,
          16.707,
          225.212,
          225.934,
          222.885,
          365.213,
          232.869,
          113.69,
          103.74,
          333.316,
          312.70799999999997,
          374.193,
          184.24,
          328.758,
          364.85,
          298.736,
          165.769,
          246.283,
          224.631,
          269.457,
          216.41,
          232.03,
          407.311,
          103.723,
          256.659,
          120.13,
          128.9175,
          146.912,
          259.111,
          316.421,
          229.543,
          229.377,
          190.572,
          154.87,
          432.34,
          387.989,
          324.684,
          18835.416,
          12195.5801,
          4952.901,
          8078.5943,
          386.4015,
          3608.251,
          48057.1439
         ]
        }
       ],
       "layout": {
        "coloraxis": {
         "colorbar": {
          "title": {
           "text": "Birth_Rate"
          }
         },
         "colorscale": [
          [
           0,
           "rgb(103,0,31)"
          ],
          [
           0.1,
           "rgb(178,24,43)"
          ],
          [
           0.2,
           "rgb(214,96,77)"
          ],
          [
           0.3,
           "rgb(244,165,130)"
          ],
          [
           0.4,
           "rgb(253,219,199)"
          ],
          [
           0.5,
           "rgb(247,247,247)"
          ],
          [
           0.6,
           "rgb(209,229,240)"
          ],
          [
           0.7,
           "rgb(146,197,222)"
          ],
          [
           0.8,
           "rgb(67,147,195)"
          ],
          [
           0.9,
           "rgb(33,102,172)"
          ],
          [
           1,
           "rgb(5,48,97)"
          ]
         ]
        },
        "legend": {
         "tracegroupgap": 0
        },
        "margin": {
         "b": 25,
         "l": 25,
         "r": 25,
         "t": 50
        },
        "template": {
         "data": {
          "bar": [
           {
            "error_x": {
             "color": "#2a3f5f"
            },
            "error_y": {
             "color": "#2a3f5f"
            },
            "marker": {
             "line": {
              "color": "#E5ECF6",
              "width": 0.5
             },
             "pattern": {
              "fillmode": "overlay",
              "size": 10,
              "solidity": 0.2
             }
            },
            "type": "bar"
           }
          ],
          "barpolar": [
           {
            "marker": {
             "line": {
              "color": "#E5ECF6",
              "width": 0.5
             },
             "pattern": {
              "fillmode": "overlay",
              "size": 10,
              "solidity": 0.2
             }
            },
            "type": "barpolar"
           }
          ],
          "carpet": [
           {
            "aaxis": {
             "endlinecolor": "#2a3f5f",
             "gridcolor": "white",
             "linecolor": "white",
             "minorgridcolor": "white",
             "startlinecolor": "#2a3f5f"
            },
            "baxis": {
             "endlinecolor": "#2a3f5f",
             "gridcolor": "white",
             "linecolor": "white",
             "minorgridcolor": "white",
             "startlinecolor": "#2a3f5f"
            },
            "type": "carpet"
           }
          ],
          "choropleth": [
           {
            "colorbar": {
             "outlinewidth": 0,
             "ticks": ""
            },
            "type": "choropleth"
           }
          ],
          "contour": [
           {
            "colorbar": {
             "outlinewidth": 0,
             "ticks": ""
            },
            "colorscale": [
             [
              0,
              "#0d0887"
             ],
             [
              0.1111111111111111,
              "#46039f"
             ],
             [
              0.2222222222222222,
              "#7201a8"
             ],
             [
              0.3333333333333333,
              "#9c179e"
             ],
             [
              0.4444444444444444,
              "#bd3786"
             ],
             [
              0.5555555555555556,
              "#d8576b"
             ],
             [
              0.6666666666666666,
              "#ed7953"
             ],
             [
              0.7777777777777778,
              "#fb9f3a"
             ],
             [
              0.8888888888888888,
              "#fdca26"
             ],
             [
              1,
              "#f0f921"
             ]
            ],
            "type": "contour"
           }
          ],
          "contourcarpet": [
           {
            "colorbar": {
             "outlinewidth": 0,
             "ticks": ""
            },
            "type": "contourcarpet"
           }
          ],
          "heatmap": [
           {
            "colorbar": {
             "outlinewidth": 0,
             "ticks": ""
            },
            "colorscale": [
             [
              0,
              "#0d0887"
             ],
             [
              0.1111111111111111,
              "#46039f"
             ],
             [
              0.2222222222222222,
              "#7201a8"
             ],
             [
              0.3333333333333333,
              "#9c179e"
             ],
             [
              0.4444444444444444,
              "#bd3786"
             ],
             [
              0.5555555555555556,
              "#d8576b"
             ],
             [
              0.6666666666666666,
              "#ed7953"
             ],
             [
              0.7777777777777778,
              "#fb9f3a"
             ],
             [
              0.8888888888888888,
              "#fdca26"
             ],
             [
              1,
              "#f0f921"
             ]
            ],
            "type": "heatmap"
           }
          ],
          "heatmapgl": [
           {
            "colorbar": {
             "outlinewidth": 0,
             "ticks": ""
            },
            "colorscale": [
             [
              0,
              "#0d0887"
             ],
             [
              0.1111111111111111,
              "#46039f"
             ],
             [
              0.2222222222222222,
              "#7201a8"
             ],
             [
              0.3333333333333333,
              "#9c179e"
             ],
             [
              0.4444444444444444,
              "#bd3786"
             ],
             [
              0.5555555555555556,
              "#d8576b"
             ],
             [
              0.6666666666666666,
              "#ed7953"
             ],
             [
              0.7777777777777778,
              "#fb9f3a"
             ],
             [
              0.8888888888888888,
              "#fdca26"
             ],
             [
              1,
              "#f0f921"
             ]
            ],
            "type": "heatmapgl"
           }
          ],
          "histogram": [
           {
            "marker": {
             "pattern": {
              "fillmode": "overlay",
              "size": 10,
              "solidity": 0.2
             }
            },
            "type": "histogram"
           }
          ],
          "histogram2d": [
           {
            "colorbar": {
             "outlinewidth": 0,
             "ticks": ""
            },
            "colorscale": [
             [
              0,
              "#0d0887"
             ],
             [
              0.1111111111111111,
              "#46039f"
             ],
             [
              0.2222222222222222,
              "#7201a8"
             ],
             [
              0.3333333333333333,
              "#9c179e"
             ],
             [
              0.4444444444444444,
              "#bd3786"
             ],
             [
              0.5555555555555556,
              "#d8576b"
             ],
             [
              0.6666666666666666,
              "#ed7953"
             ],
             [
              0.7777777777777778,
              "#fb9f3a"
             ],
             [
              0.8888888888888888,
              "#fdca26"
             ],
             [
              1,
              "#f0f921"
             ]
            ],
            "type": "histogram2d"
           }
          ],
          "histogram2dcontour": [
           {
            "colorbar": {
             "outlinewidth": 0,
             "ticks": ""
            },
            "colorscale": [
             [
              0,
              "#0d0887"
             ],
             [
              0.1111111111111111,
              "#46039f"
             ],
             [
              0.2222222222222222,
              "#7201a8"
             ],
             [
              0.3333333333333333,
              "#9c179e"
             ],
             [
              0.4444444444444444,
              "#bd3786"
             ],
             [
              0.5555555555555556,
              "#d8576b"
             ],
             [
              0.6666666666666666,
              "#ed7953"
             ],
             [
              0.7777777777777778,
              "#fb9f3a"
             ],
             [
              0.8888888888888888,
              "#fdca26"
             ],
             [
              1,
              "#f0f921"
             ]
            ],
            "type": "histogram2dcontour"
           }
          ],
          "mesh3d": [
           {
            "colorbar": {
             "outlinewidth": 0,
             "ticks": ""
            },
            "type": "mesh3d"
           }
          ],
          "parcoords": [
           {
            "line": {
             "colorbar": {
              "outlinewidth": 0,
              "ticks": ""
             }
            },
            "type": "parcoords"
           }
          ],
          "pie": [
           {
            "automargin": true,
            "type": "pie"
           }
          ],
          "scatter": [
           {
            "fillpattern": {
             "fillmode": "overlay",
             "size": 10,
             "solidity": 0.2
            },
            "type": "scatter"
           }
          ],
          "scatter3d": [
           {
            "line": {
             "colorbar": {
              "outlinewidth": 0,
              "ticks": ""
             }
            },
            "marker": {
             "colorbar": {
              "outlinewidth": 0,
              "ticks": ""
             }
            },
            "type": "scatter3d"
           }
          ],
          "scattercarpet": [
           {
            "marker": {
             "colorbar": {
              "outlinewidth": 0,
              "ticks": ""
             }
            },
            "type": "scattercarpet"
           }
          ],
          "scattergeo": [
           {
            "marker": {
             "colorbar": {
              "outlinewidth": 0,
              "ticks": ""
             }
            },
            "type": "scattergeo"
           }
          ],
          "scattergl": [
           {
            "marker": {
             "colorbar": {
              "outlinewidth": 0,
              "ticks": ""
             }
            },
            "type": "scattergl"
           }
          ],
          "scattermapbox": [
           {
            "marker": {
             "colorbar": {
              "outlinewidth": 0,
              "ticks": ""
             }
            },
            "type": "scattermapbox"
           }
          ],
          "scatterpolar": [
           {
            "marker": {
             "colorbar": {
              "outlinewidth": 0,
              "ticks": ""
             }
            },
            "type": "scatterpolar"
           }
          ],
          "scatterpolargl": [
           {
            "marker": {
             "colorbar": {
              "outlinewidth": 0,
              "ticks": ""
             }
            },
            "type": "scatterpolargl"
           }
          ],
          "scatterternary": [
           {
            "marker": {
             "colorbar": {
              "outlinewidth": 0,
              "ticks": ""
             }
            },
            "type": "scatterternary"
           }
          ],
          "surface": [
           {
            "colorbar": {
             "outlinewidth": 0,
             "ticks": ""
            },
            "colorscale": [
             [
              0,
              "#0d0887"
             ],
             [
              0.1111111111111111,
              "#46039f"
             ],
             [
              0.2222222222222222,
              "#7201a8"
             ],
             [
              0.3333333333333333,
              "#9c179e"
             ],
             [
              0.4444444444444444,
              "#bd3786"
             ],
             [
              0.5555555555555556,
              "#d8576b"
             ],
             [
              0.6666666666666666,
              "#ed7953"
             ],
             [
              0.7777777777777778,
              "#fb9f3a"
             ],
             [
              0.8888888888888888,
              "#fdca26"
             ],
             [
              1,
              "#f0f921"
             ]
            ],
            "type": "surface"
           }
          ],
          "table": [
           {
            "cells": {
             "fill": {
              "color": "#EBF0F8"
             },
             "line": {
              "color": "white"
             }
            },
            "header": {
             "fill": {
              "color": "#C8D4E3"
             },
             "line": {
              "color": "white"
             }
            },
            "type": "table"
           }
          ]
         },
         "layout": {
          "annotationdefaults": {
           "arrowcolor": "#2a3f5f",
           "arrowhead": 0,
           "arrowwidth": 1
          },
          "autotypenumbers": "strict",
          "coloraxis": {
           "colorbar": {
            "outlinewidth": 0,
            "ticks": ""
           }
          },
          "colorscale": {
           "diverging": [
            [
             0,
             "#8e0152"
            ],
            [
             0.1,
             "#c51b7d"
            ],
            [
             0.2,
             "#de77ae"
            ],
            [
             0.3,
             "#f1b6da"
            ],
            [
             0.4,
             "#fde0ef"
            ],
            [
             0.5,
             "#f7f7f7"
            ],
            [
             0.6,
             "#e6f5d0"
            ],
            [
             0.7,
             "#b8e186"
            ],
            [
             0.8,
             "#7fbc41"
            ],
            [
             0.9,
             "#4d9221"
            ],
            [
             1,
             "#276419"
            ]
           ],
           "sequential": [
            [
             0,
             "#0d0887"
            ],
            [
             0.1111111111111111,
             "#46039f"
            ],
            [
             0.2222222222222222,
             "#7201a8"
            ],
            [
             0.3333333333333333,
             "#9c179e"
            ],
            [
             0.4444444444444444,
             "#bd3786"
            ],
            [
             0.5555555555555556,
             "#d8576b"
            ],
            [
             0.6666666666666666,
             "#ed7953"
            ],
            [
             0.7777777777777778,
             "#fb9f3a"
            ],
            [
             0.8888888888888888,
             "#fdca26"
            ],
            [
             1,
             "#f0f921"
            ]
           ],
           "sequentialminus": [
            [
             0,
             "#0d0887"
            ],
            [
             0.1111111111111111,
             "#46039f"
            ],
            [
             0.2222222222222222,
             "#7201a8"
            ],
            [
             0.3333333333333333,
             "#9c179e"
            ],
            [
             0.4444444444444444,
             "#bd3786"
            ],
            [
             0.5555555555555556,
             "#d8576b"
            ],
            [
             0.6666666666666666,
             "#ed7953"
            ],
            [
             0.7777777777777778,
             "#fb9f3a"
            ],
            [
             0.8888888888888888,
             "#fdca26"
            ],
            [
             1,
             "#f0f921"
            ]
           ]
          },
          "colorway": [
           "#636efa",
           "#EF553B",
           "#00cc96",
           "#ab63fa",
           "#FFA15A",
           "#19d3f3",
           "#FF6692",
           "#B6E880",
           "#FF97FF",
           "#FECB52"
          ],
          "font": {
           "color": "#2a3f5f"
          },
          "geo": {
           "bgcolor": "white",
           "lakecolor": "white",
           "landcolor": "#E5ECF6",
           "showlakes": true,
           "showland": true,
           "subunitcolor": "white"
          },
          "hoverlabel": {
           "align": "left"
          },
          "hovermode": "closest",
          "mapbox": {
           "style": "light"
          },
          "paper_bgcolor": "white",
          "plot_bgcolor": "#E5ECF6",
          "polar": {
           "angularaxis": {
            "gridcolor": "white",
            "linecolor": "white",
            "ticks": ""
           },
           "bgcolor": "#E5ECF6",
           "radialaxis": {
            "gridcolor": "white",
            "linecolor": "white",
            "ticks": ""
           }
          },
          "scene": {
           "xaxis": {
            "backgroundcolor": "#E5ECF6",
            "gridcolor": "white",
            "gridwidth": 2,
            "linecolor": "white",
            "showbackground": true,
            "ticks": "",
            "zerolinecolor": "white"
           },
           "yaxis": {
            "backgroundcolor": "#E5ECF6",
            "gridcolor": "white",
            "gridwidth": 2,
            "linecolor": "white",
            "showbackground": true,
            "ticks": "",
            "zerolinecolor": "white"
           },
           "zaxis": {
            "backgroundcolor": "#E5ECF6",
            "gridcolor": "white",
            "gridwidth": 2,
            "linecolor": "white",
            "showbackground": true,
            "ticks": "",
            "zerolinecolor": "white"
           }
          },
          "shapedefaults": {
           "line": {
            "color": "#2a3f5f"
           }
          },
          "ternary": {
           "aaxis": {
            "gridcolor": "white",
            "linecolor": "white",
            "ticks": ""
           },
           "baxis": {
            "gridcolor": "white",
            "linecolor": "white",
            "ticks": ""
           },
           "bgcolor": "#E5ECF6",
           "caxis": {
            "gridcolor": "white",
            "linecolor": "white",
            "ticks": ""
           }
          },
          "title": {
           "x": 0.05
          },
          "xaxis": {
           "automargin": true,
           "gridcolor": "white",
           "linecolor": "white",
           "ticks": "",
           "title": {
            "standoff": 15
           },
           "zerolinecolor": "white",
           "zerolinewidth": 2
          },
          "yaxis": {
           "automargin": true,
           "gridcolor": "white",
           "linecolor": "white",
           "ticks": "",
           "title": {
            "standoff": 15
           },
           "zerolinecolor": "white",
           "zerolinewidth": 2
          }
         }
        }
       }
      }
     },
     "metadata": {},
     "output_type": "display_data"
    }
   ],
   "source": [
    "fig = px.treemap(birth_rate_df, path=[px.Constant(\"world\"), 'region', 'Country_Name'], values='Birth_Rate',\n",
    "                  color='Birth_Rate', hover_data=['Country_Code'],\n",
    "                  color_continuous_scale='RdBu',\n",
    "                  )\n",
    "fig.update_layout(margin = dict(t=50, l=25, r=25, b=25))\n",
    "fig.show()"
   ]
  }
 ],
 "metadata": {
  "kernelspec": {
   "display_name": "Python 3",
   "language": "python",
   "name": "python3"
  },
  "language_info": {
   "codemirror_mode": {
    "name": "ipython",
    "version": 3
   },
   "file_extension": ".py",
   "mimetype": "text/x-python",
   "name": "python",
   "nbconvert_exporter": "python",
   "pygments_lexer": "ipython3",
   "version": "3.10.6"
  },
  "orig_nbformat": 4
 },
 "nbformat": 4,
 "nbformat_minor": 2
}
